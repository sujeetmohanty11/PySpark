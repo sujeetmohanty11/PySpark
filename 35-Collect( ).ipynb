{
 "cells": [
  {
   "cell_type": "code",
   "execution_count": 2,
   "id": "f2f84218",
   "metadata": {},
   "outputs": [],
   "source": [
    "from pyspark.sql import SparkSession\n",
    "spark = SparkSession.builder.appName('practise35').getOrCreate()"
   ]
  },
  {
   "cell_type": "code",
   "execution_count": 3,
   "id": "99106b52",
   "metadata": {},
   "outputs": [],
   "source": [
    "data = [(1, 'maheer', 'male', 5000, 'IT'),\\\n",
    "        (2, 'wafa', 'male' ,6000, 'IT'),\\\n",
    "        (3, 'asi','female',2500, 'Payroll'),\\\n",
    "        (4, 'sarfaraj', 'male',4000, 'HR'),\\\n",
    "        (5, 'pyarijaan','female' ,2000, 'HR'),\\\n",
    "        (6, 'mahaboob','male',2000, 'Payroll'),\\\n",
    "        (7, 'ayesha','female',3000, 'IT')]\n",
    "\n",
    "schema=['id','name', 'gender', 'salary','dep']\n",
    "df = spark.createDataFrame (data, schema)"
   ]
  },
  {
   "cell_type": "code",
   "execution_count": 9,
   "id": "d0bde382",
   "metadata": {},
   "outputs": [],
   "source": [
    "dataRows = df.collect()"
   ]
  },
  {
   "cell_type": "code",
   "execution_count": 14,
   "id": "84d77641",
   "metadata": {},
   "outputs": [
    {
     "name": "stdout",
     "output_type": "stream",
     "text": [
      "IT\n"
     ]
    }
   ],
   "source": [
    "print(dataRows[0][-1])"
   ]
  },
  {
   "cell_type": "code",
   "execution_count": null,
   "id": "066d8d8a",
   "metadata": {},
   "outputs": [],
   "source": []
  }
 ],
 "metadata": {
  "kernelspec": {
   "display_name": "Python 3 (ipykernel)",
   "language": "python",
   "name": "python3"
  },
  "language_info": {
   "codemirror_mode": {
    "name": "ipython",
    "version": 3
   },
   "file_extension": ".py",
   "mimetype": "text/x-python",
   "name": "python",
   "nbconvert_exporter": "python",
   "pygments_lexer": "ipython3",
   "version": "3.9.16"
  }
 },
 "nbformat": 4,
 "nbformat_minor": 5
}
