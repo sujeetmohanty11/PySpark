{
 "cells": [
  {
   "cell_type": "code",
   "execution_count": 1,
   "id": "bae70be4",
   "metadata": {},
   "outputs": [
    {
     "name": "stderr",
     "output_type": "stream",
     "text": [
      "Using Spark's default log4j profile: org/apache/spark/log4j-defaults.properties\n",
      "Setting default log level to \"WARN\".\n",
      "To adjust logging level use sc.setLogLevel(newLevel). For SparkR, use setLogLevel(newLevel).\n",
      "23/02/19 16:58:09 WARN NativeCodeLoader: Unable to load native-hadoop library for your platform... using builtin-java classes where applicable\n"
     ]
    }
   ],
   "source": [
    "from pyspark.sql import SparkSession\n",
    "spark = SparkSession.builder.appName('practise40').getOrCreate()"
   ]
  },
  {
   "cell_type": "code",
   "execution_count": null,
   "id": "651f116c",
   "metadata": {},
   "outputs": [],
   "source": []
  },
  {
   "cell_type": "code",
   "execution_count": null,
   "id": "340b5faf",
   "metadata": {},
   "outputs": [],
   "source": []
  },
  {
   "cell_type": "code",
   "execution_count": null,
   "id": "16eefe04",
   "metadata": {},
   "outputs": [],
   "source": []
  },
  {
   "cell_type": "code",
   "execution_count": 9,
   "id": "60fe9943",
   "metadata": {},
   "outputs": [
    {
     "name": "stdout",
     "output_type": "stream",
     "text": [
      "+---+------+------+-----+\n",
      "| id|  name|salary|bonus|\n",
      "+---+------+------+-----+\n",
      "|  1|sujeet|  2000| 3000|\n",
      "|  2| ajeet|  3000| 4000|\n",
      "+---+------+------+-----+\n",
      "\n"
     ]
    }
   ],
   "source": [
    "data = [(1, 'sujeet', 2000,3000),(2, 'ajeet', 3000,4000)]\n",
    "schema =['id','name','salary','bonus']\n",
    "\n",
    "df = spark.createDataFrame(data,schema)\n",
    "df.show()"
   ]
  },
  {
   "cell_type": "code",
   "execution_count": 10,
   "id": "7128d8ed",
   "metadata": {},
   "outputs": [
    {
     "name": "stdout",
     "output_type": "stream",
     "text": [
      "+---+------+------+-----+------+\n",
      "| id|  name|salary|bonus|totPay|\n",
      "+---+------+------+-----+------+\n",
      "|  1|sujeet|  2000| 3000|  5000|\n",
      "|  2| ajeet|  3000| 4000|  7000|\n",
      "+---+------+------+-----+------+\n",
      "\n"
     ]
    }
   ],
   "source": [
    "from pyspark.sql.functions import udf\n",
    "from pyspark.sql.types import IntegerType\n",
    "\n",
    "def total_pay(x,y):\n",
    "    return x+y\n",
    "\n",
    "TotalPayment = udf(lambda s,b: total_pay(s,b), IntegerType())\n",
    "df = df.withColumn('totPay', TotalPayment(df.salary, df.bonus))\n",
    "df.show()"
   ]
  },
  {
   "cell_type": "code",
   "execution_count": null,
   "id": "1ddee4eb",
   "metadata": {},
   "outputs": [],
   "source": []
  },
  {
   "cell_type": "code",
   "execution_count": null,
   "id": "ea1091e7",
   "metadata": {},
   "outputs": [],
   "source": []
  },
  {
   "cell_type": "code",
   "execution_count": null,
   "id": "88514ca4",
   "metadata": {},
   "outputs": [],
   "source": []
  },
  {
   "cell_type": "code",
   "execution_count": 12,
   "id": "235a978e",
   "metadata": {},
   "outputs": [
    {
     "name": "stdout",
     "output_type": "stream",
     "text": [
      "+---+------+------+-----+\n",
      "| id|  name|salary|bonus|\n",
      "+---+------+------+-----+\n",
      "|  1|sujeet|  2000| 3000|\n",
      "|  2| ajeet|  3000| 4000|\n",
      "+---+------+------+-----+\n",
      "\n"
     ]
    }
   ],
   "source": [
    "data = [(1, 'sujeet', 2000,3000),(2, 'ajeet', 3000,4000)]\n",
    "schema =['id','name','salary','bonus']\n",
    "\n",
    "df = spark.createDataFrame(data,schema)\n",
    "df.show()"
   ]
  },
  {
   "cell_type": "code",
   "execution_count": 15,
   "id": "352831d9",
   "metadata": {},
   "outputs": [
    {
     "name": "stdout",
     "output_type": "stream",
     "text": [
      "+---+------+------+-----+------+\n",
      "| id|  name|salary|bonus|totPay|\n",
      "+---+------+------+-----+------+\n",
      "|  1|sujeet|  2000| 3000|  5000|\n",
      "|  2| ajeet|  3000| 4000|  7000|\n",
      "+---+------+------+-----+------+\n",
      "\n"
     ]
    }
   ],
   "source": [
    "@udf(returnType=IntegerType())\n",
    "def total_pay(x,y):\n",
    "    return x+y\n",
    "\n",
    "df.select('*', total_pay(df.salary, df.bonus).alias('totPay')).show()"
   ]
  },
  {
   "cell_type": "code",
   "execution_count": null,
   "id": "b3931124",
   "metadata": {},
   "outputs": [],
   "source": []
  },
  {
   "cell_type": "code",
   "execution_count": null,
   "id": "a4dcac3b",
   "metadata": {},
   "outputs": [],
   "source": []
  },
  {
   "cell_type": "code",
   "execution_count": null,
   "id": "d4640d45",
   "metadata": {},
   "outputs": [],
   "source": []
  },
  {
   "cell_type": "code",
   "execution_count": 17,
   "id": "7b60fc43",
   "metadata": {},
   "outputs": [],
   "source": [
    "# data = [(1, 'sujeet', 2000,3000),(2, 'ajeet', 3000,4000)]\n",
    "# schema =['id','name','salary','bonus']\n",
    "\n",
    "# df = spark.createDataFrame(data,schema)\n",
    "# df.createGlobalTempView('emps')"
   ]
  },
  {
   "cell_type": "code",
   "execution_count": 20,
   "id": "35d771b7",
   "metadata": {},
   "outputs": [
    {
     "ename": "SyntaxError",
     "evalue": "invalid syntax (3594507924.py, line 2)",
     "output_type": "error",
     "traceback": [
      "\u001b[0;36m  Cell \u001b[0;32mIn[20], line 2\u001b[0;36m\u001b[0m\n\u001b[0;31m    SELECT * total_pay(salary, bonus) FROM emps;\u001b[0m\n\u001b[0m                                      ^\u001b[0m\n\u001b[0;31mSyntaxError\u001b[0m\u001b[0;31m:\u001b[0m invalid syntax\n"
     ]
    }
   ],
   "source": [
    "# %sql\n",
    "# SELECT * total_pay(salary, bonus) FROM emps;"
   ]
  },
  {
   "cell_type": "code",
   "execution_count": null,
   "id": "56c33aaf",
   "metadata": {},
   "outputs": [],
   "source": [
    " "
   ]
  }
 ],
 "metadata": {
  "kernelspec": {
   "display_name": "Python 3 (ipykernel)",
   "language": "python",
   "name": "python3"
  },
  "language_info": {
   "codemirror_mode": {
    "name": "ipython",
    "version": 3
   },
   "file_extension": ".py",
   "mimetype": "text/x-python",
   "name": "python",
   "nbconvert_exporter": "python",
   "pygments_lexer": "ipython3",
   "version": "3.9.16"
  }
 },
 "nbformat": 4,
 "nbformat_minor": 5
}
