{
 "cells": [
  {
   "cell_type": "code",
   "execution_count": 6,
   "id": "6eb0b847",
   "metadata": {},
   "outputs": [],
   "source": [
    "from pyspark.sql import SparkSession, dataframe\n",
    "spark = SparkSession.builder.appName('practise3').getOrCreate()"
   ]
  },
  {
   "cell_type": "code",
   "execution_count": 7,
   "id": "6538968a",
   "metadata": {
    "scrolled": false
   },
   "outputs": [
    {
     "data": {
      "text/plain": [
       "<property at 0x7fa3d76efae0>"
      ]
     },
     "execution_count": 7,
     "metadata": {},
     "output_type": "execute_result"
    }
   ],
   "source": [
    "dataframe.DataFrame.write"
   ]
  },
  {
   "cell_type": "code",
   "execution_count": 8,
   "id": "31f60a77",
   "metadata": {},
   "outputs": [],
   "source": [
    "data = [(1,'Maheer'), (1,'Wafa')]"
   ]
  },
  {
   "cell_type": "code",
   "execution_count": 9,
   "id": "d2080d21",
   "metadata": {},
   "outputs": [],
   "source": [
    "schema = ['id','name']"
   ]
  },
  {
   "cell_type": "code",
   "execution_count": 12,
   "id": "73fff99a",
   "metadata": {},
   "outputs": [],
   "source": [
    "df = spark.createDataFrame(data,schema)"
   ]
  },
  {
   "cell_type": "code",
   "execution_count": 13,
   "id": "b4cbec4d",
   "metadata": {},
   "outputs": [
    {
     "data": {
      "text/plain": [
       "DataFrame[id: bigint, name: string]"
      ]
     },
     "metadata": {},
     "output_type": "display_data"
    }
   ],
   "source": [
    "display(df)"
   ]
  },
  {
   "cell_type": "code",
   "execution_count": 14,
   "id": "f40de304",
   "metadata": {},
   "outputs": [
    {
     "name": "stdout",
     "output_type": "stream",
     "text": [
      "+---+------+\n",
      "| id|  name|\n",
      "+---+------+\n",
      "|  1|Maheer|\n",
      "|  1|  Wafa|\n",
      "+---+------+\n",
      "\n"
     ]
    }
   ],
   "source": [
    "df.show()"
   ]
  },
  {
   "cell_type": "code",
   "execution_count": 61,
   "id": "1069403d",
   "metadata": {},
   "outputs": [],
   "source": [
    "df.write.csv(path='/Users/sujeetmohanty/Desktop/emps', header=True)"
   ]
  },
  {
   "cell_type": "code",
   "execution_count": 65,
   "id": "a8a49a6f",
   "metadata": {},
   "outputs": [
    {
     "name": "stdout",
     "output_type": "stream",
     "text": [
      "+---+------+\n",
      "| id|  name|\n",
      "+---+------+\n",
      "|  1|Maheer|\n",
      "|  1|  Wafa|\n",
      "+---+------+\n",
      "\n"
     ]
    }
   ],
   "source": [
    "spark.read.csv('/Users/sujeetmohanty/Desktop/emps', header=True).show()"
   ]
  },
  {
   "cell_type": "code",
   "execution_count": 66,
   "id": "8351861d",
   "metadata": {},
   "outputs": [],
   "source": [
    "data = [(3,'Sujeet'), (4,'Ajeet')]\n",
    "schema = ['id','name']\n",
    "df = spark.createDataFrame(data,schema)"
   ]
  },
  {
   "cell_type": "code",
   "execution_count": 68,
   "id": "09b87162",
   "metadata": {},
   "outputs": [],
   "source": [
    "df.write.csv(path='/Users/sujeetmohanty/Desktop/emps', header=True,mode='append')"
   ]
  },
  {
   "cell_type": "code",
   "execution_count": 69,
   "id": "8156e84b",
   "metadata": {},
   "outputs": [
    {
     "name": "stdout",
     "output_type": "stream",
     "text": [
      "+---+------+\n",
      "| id|  name|\n",
      "+---+------+\n",
      "|  1|Maheer|\n",
      "|  3|Sujeet|\n",
      "|  4| Ajeet|\n",
      "|  1|  Wafa|\n",
      "+---+------+\n",
      "\n"
     ]
    }
   ],
   "source": [
    "spark.read.csv('/Users/sujeetmohanty/Desktop/emps', header=True).show()"
   ]
  },
  {
   "cell_type": "code",
   "execution_count": null,
   "id": "488ade5f",
   "metadata": {},
   "outputs": [],
   "source": []
  }
 ],
 "metadata": {
  "kernelspec": {
   "display_name": "Python 3 (ipykernel)",
   "language": "python",
   "name": "python3"
  },
  "language_info": {
   "codemirror_mode": {
    "name": "ipython",
    "version": 3
   },
   "file_extension": ".py",
   "mimetype": "text/x-python",
   "name": "python",
   "nbconvert_exporter": "python",
   "pygments_lexer": "ipython3",
   "version": "3.9.16"
  }
 },
 "nbformat": 4,
 "nbformat_minor": 5
}
