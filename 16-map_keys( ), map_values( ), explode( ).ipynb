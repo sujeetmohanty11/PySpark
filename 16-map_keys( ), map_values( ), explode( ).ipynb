{
 "cells": [
  {
   "cell_type": "code",
   "execution_count": 1,
   "id": "a192e6ee",
   "metadata": {},
   "outputs": [
    {
     "name": "stdout",
     "output_type": "stream",
     "text": [
      "23/02/16 22:46:24 WARN Utils: Your hostname, Sujeets-MacBook-Air.local resolves to a loopback address: 127.0.0.1; using 192.168.29.122 instead (on interface en0)\n",
      "23/02/16 22:46:24 WARN Utils: Set SPARK_LOCAL_IP if you need to bind to another address\n"
     ]
    },
    {
     "name": "stderr",
     "output_type": "stream",
     "text": [
      "Setting default log level to \"WARN\".\n",
      "To adjust logging level use sc.setLogLevel(newLevel). For SparkR, use setLogLevel(newLevel).\n"
     ]
    },
    {
     "name": "stdout",
     "output_type": "stream",
     "text": [
      "23/02/16 22:46:25 WARN NativeCodeLoader: Unable to load native-hadoop library for your platform... using builtin-java classes where applicable\n",
      "23/02/16 22:46:26 WARN Utils: Service 'SparkUI' could not bind on port 4040. Attempting port 4041.\n",
      "23/02/16 22:46:26 WARN Utils: Service 'SparkUI' could not bind on port 4041. Attempting port 4042.\n"
     ]
    }
   ],
   "source": [
    "from pyspark.sql import SparkSession\n",
    "spark = SparkSession.builder.appName('practise16').getOrCreate()"
   ]
  },
  {
   "cell_type": "code",
   "execution_count": 2,
   "id": "9bf472a3",
   "metadata": {},
   "outputs": [],
   "source": []
  },
  {
   "cell_type": "code",
   "execution_count": 5,
   "id": "a44755cc",
   "metadata": {},
   "outputs": [
    {
     "name": "stdout",
     "output_type": "stream",
     "text": [
      "+------+------------------------------+\n",
      "|name  |properties                    |\n",
      "+------+------------------------------+\n",
      "|sujeet|{skin -> white, hair -> black}|\n",
      "|ajeet |{skin -> white, hair -> grey} |\n",
      "+------+------------------------------+\n",
      "\n",
      "root\n",
      " |-- name: string (nullable = true)\n",
      " |-- properties: map (nullable = true)\n",
      " |    |-- key: string\n",
      " |    |-- value: string (valueContainsNull = true)\n",
      "\n"
     ]
    }
   ],
   "source": [
    "from pyspark.sql.types import StringType, StructType, StructField, MapType\n",
    "\n",
    "data = [('sujeet', {'hair':'black', 'skin':'white'}),('ajeet', {'hair':'grey', 'skin':'white'})]\n",
    "\n",
    "schema = StructType([StructField('name', StringType()),\\\n",
    "                     StructField('properties', MapType(StringType(), StringType()))])\n",
    "\n",
    "\n",
    "df = spark.createDataFrame(data, schema)\n",
    "df.show(truncate=False)\n",
    "df.printSchema()"
   ]
  },
  {
   "cell_type": "code",
   "execution_count": null,
   "id": "c1ddd6b7",
   "metadata": {},
   "outputs": [],
   "source": []
  },
  {
   "cell_type": "code",
   "execution_count": 9,
   "id": "ad3903b4",
   "metadata": {},
   "outputs": [
    {
     "name": "stdout",
     "output_type": "stream",
     "text": [
      "+------+--------------------+-----+\n",
      "|  name|          properties| prop|\n",
      "+------+--------------------+-----+\n",
      "|sujeet|{skin -> white, h...|white|\n",
      "| ajeet|{skin -> white, h...|white|\n",
      "+------+--------------------+-----+\n",
      "\n"
     ]
    }
   ],
   "source": [
    "df.withColumn('prop', df.properties.getItem('skin')).show()"
   ]
  },
  {
   "cell_type": "code",
   "execution_count": null,
   "id": "a498c6fe",
   "metadata": {},
   "outputs": [],
   "source": []
  },
  {
   "cell_type": "code",
   "execution_count": null,
   "id": "3a4fb610",
   "metadata": {},
   "outputs": [],
   "source": []
  },
  {
   "cell_type": "code",
   "execution_count": null,
   "id": "f4a1ad07",
   "metadata": {},
   "outputs": [],
   "source": []
  },
  {
   "cell_type": "code",
   "execution_count": 11,
   "id": "93619783",
   "metadata": {},
   "outputs": [
    {
     "name": "stdout",
     "output_type": "stream",
     "text": [
      "+------+--------------------+----+-----+\n",
      "|  name|          properties| key|value|\n",
      "+------+--------------------+----+-----+\n",
      "|sujeet|{skin -> white, h...|skin|white|\n",
      "|sujeet|{skin -> white, h...|hair|black|\n",
      "| ajeet|{skin -> white, h...|skin|white|\n",
      "| ajeet|{skin -> white, h...|hair| grey|\n",
      "+------+--------------------+----+-----+\n",
      "\n"
     ]
    }
   ],
   "source": [
    "from pyspark.sql.functions import explode\n",
    "\n",
    "df.select('name', 'properties', explode(df.properties)).show()"
   ]
  },
  {
   "cell_type": "code",
   "execution_count": 14,
   "id": "c1cd7c61",
   "metadata": {},
   "outputs": [
    {
     "name": "stdout",
     "output_type": "stream",
     "text": [
      "+------+------------------------------+------------+\n",
      "|name  |properties                    |keys        |\n",
      "+------+------------------------------+------------+\n",
      "|sujeet|{skin -> white, hair -> black}|[skin, hair]|\n",
      "|ajeet |{skin -> white, hair -> grey} |[skin, hair]|\n",
      "+------+------------------------------+------------+\n",
      "\n"
     ]
    }
   ],
   "source": [
    "from pyspark.sql.functions import map_keys\n",
    "df.withColumn('keys', map_keys(df.properties)).show(truncate=False)"
   ]
  },
  {
   "cell_type": "code",
   "execution_count": null,
   "id": "e0d7fefe",
   "metadata": {},
   "outputs": [],
   "source": []
  },
  {
   "cell_type": "code",
   "execution_count": null,
   "id": "4bd8e554",
   "metadata": {},
   "outputs": [],
   "source": []
  },
  {
   "cell_type": "code",
   "execution_count": 15,
   "id": "0f4e832c",
   "metadata": {},
   "outputs": [
    {
     "name": "stdout",
     "output_type": "stream",
     "text": [
      "+------+--------------------+--------------+\n",
      "|  name|          properties|        values|\n",
      "+------+--------------------+--------------+\n",
      "|sujeet|{skin -> white, h...|[white, black]|\n",
      "| ajeet|{skin -> white, h...| [white, grey]|\n",
      "+------+--------------------+--------------+\n",
      "\n"
     ]
    }
   ],
   "source": [
    "from pyspark.sql.functions import map_values\n",
    "\n",
    "df.withColumn('values', map_values(df.properties)).show()"
   ]
  },
  {
   "cell_type": "code",
   "execution_count": 16,
   "id": "da33ec83",
   "metadata": {},
   "outputs": [
    {
     "data": {
      "text/plain": [
       "True"
      ]
     },
     "execution_count": 16,
     "metadata": {},
     "output_type": "execute_result"
    }
   ],
   "source": [
    "v=1\n",
    "b=1\n",
    "\n",
    "v is b"
   ]
  },
  {
   "cell_type": "code",
   "execution_count": 17,
   "id": "e6b5ab07",
   "metadata": {},
   "outputs": [
    {
     "data": {
      "text/plain": [
       "False"
      ]
     },
     "execution_count": 17,
     "metadata": {},
     "output_type": "execute_result"
    }
   ],
   "source": [
    "lst1 = [1,3]\n",
    "lst2 = [1,3]\n",
    "\n",
    "lst1 is lst2"
   ]
  },
  {
   "cell_type": "code",
   "execution_count": 20,
   "id": "91234a98",
   "metadata": {},
   "outputs": [
    {
     "data": {
      "text/plain": [
       "False"
      ]
     },
     "execution_count": 20,
     "metadata": {},
     "output_type": "execute_result"
    }
   ],
   "source": [
    "str1 = \"hello@world\"\n",
    "str2 = \"hello@world\"\n",
    "\n",
    "str1 is str2"
   ]
  },
  {
   "cell_type": "code",
   "execution_count": null,
   "id": "e42beaef",
   "metadata": {},
   "outputs": [],
   "source": []
  }
 ],
 "metadata": {
  "kernelspec": {
   "display_name": "Python 3 (ipykernel)",
   "language": "python",
   "name": "python3"
  },
  "language_info": {
   "codemirror_mode": {
    "name": "ipython",
    "version": 3
   },
   "file_extension": ".py",
   "mimetype": "text/x-python",
   "name": "python",
   "nbconvert_exporter": "python",
   "pygments_lexer": "ipython3",
   "version": "3.9.16"
  }
 },
 "nbformat": 4,
 "nbformat_minor": 5
}
