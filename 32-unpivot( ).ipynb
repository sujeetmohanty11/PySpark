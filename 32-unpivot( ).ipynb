{
 "cells": [
  {
   "cell_type": "code",
   "execution_count": 2,
   "id": "f5728b78",
   "metadata": {},
   "outputs": [
    {
     "name": "stderr",
     "output_type": "stream",
     "text": [
      "23/02/18 18:15:04 WARN NativeCodeLoader: Unable to load native-hadoop library for your platform... using builtin-java classes where applicable\n",
      "23/02/18 18:15:05 WARN Utils: Service 'SparkUI' could not bind on port 4040. Attempting port 4041.\n"
     ]
    }
   ],
   "source": [
    "from pyspark.sql import SparkSession\n",
    "spark = SparkSession.builder.appName('pracstise32').getOrCreate()"
   ]
  },
  {
   "cell_type": "code",
   "execution_count": 5,
   "id": "cba82fd1",
   "metadata": {},
   "outputs": [],
   "source": [
    "data = [('IT', 8, 5), ('Payroll', 3, 2), ('HR', 2,4) ]\n",
    "schema = ['dep','male','female']"
   ]
  },
  {
   "cell_type": "code",
   "execution_count": 6,
   "id": "316fc58f",
   "metadata": {},
   "outputs": [],
   "source": [
    "df = spark.createDataFrame (data, schema)"
   ]
  },
  {
   "cell_type": "code",
   "execution_count": 7,
   "id": "690b6e74",
   "metadata": {},
   "outputs": [
    {
     "name": "stderr",
     "output_type": "stream",
     "text": [
      "\r",
      "[Stage 0:>                                                          (0 + 1) / 1]\r"
     ]
    },
    {
     "name": "stdout",
     "output_type": "stream",
     "text": [
      "+-------+----+------+\n",
      "|    dep|male|female|\n",
      "+-------+----+------+\n",
      "|     IT|   8|     5|\n",
      "|Payroll|   3|     2|\n",
      "|     HR|   2|     4|\n",
      "+-------+----+------+\n",
      "\n"
     ]
    },
    {
     "name": "stderr",
     "output_type": "stream",
     "text": [
      "\r",
      "                                                                                \r"
     ]
    }
   ],
   "source": [
    "df.show()"
   ]
  },
  {
   "cell_type": "code",
   "execution_count": 10,
   "id": "039baf96",
   "metadata": {},
   "outputs": [
    {
     "name": "stdout",
     "output_type": "stream",
     "text": [
      "+-------+------+-----+\n",
      "|    dep|gender|count|\n",
      "+-------+------+-----+\n",
      "|     IT|  male|    8|\n",
      "|     IT|female|    5|\n",
      "|Payroll|  male|    3|\n",
      "|Payroll|female|    2|\n",
      "|     HR|  male|    2|\n",
      "|     HR|female|    4|\n",
      "+-------+------+-----+\n",
      "\n"
     ]
    }
   ],
   "source": [
    "from pyspark.sql.functions import expr\n",
    "unPivotDF = df.select('dep', expr(\"stack(2,'male',male,'female', female) as (gender, count)\"))\n",
    "unPivotDF.show()"
   ]
  },
  {
   "cell_type": "code",
   "execution_count": null,
   "id": "faf78405",
   "metadata": {},
   "outputs": [],
   "source": []
  }
 ],
 "metadata": {
  "kernelspec": {
   "display_name": "Python 3 (ipykernel)",
   "language": "python",
   "name": "python3"
  },
  "language_info": {
   "codemirror_mode": {
    "name": "ipython",
    "version": 3
   },
   "file_extension": ".py",
   "mimetype": "text/x-python",
   "name": "python",
   "nbconvert_exporter": "python",
   "pygments_lexer": "ipython3",
   "version": "3.9.16"
  }
 },
 "nbformat": 4,
 "nbformat_minor": 5
}
