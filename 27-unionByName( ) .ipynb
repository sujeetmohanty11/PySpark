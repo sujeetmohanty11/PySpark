{
 "cells": [
  {
   "cell_type": "code",
   "execution_count": 1,
   "id": "85cc5eb4",
   "metadata": {},
   "outputs": [
    {
     "name": "stdout",
     "output_type": "stream",
     "text": [
      "23/02/17 18:03:38 WARN Utils: Your hostname, Sujeets-MacBook-Air.local resolves to a loopback address: 127.0.0.1; using 192.168.29.122 instead (on interface en0)\n",
      "23/02/17 18:03:38 WARN Utils: Set SPARK_LOCAL_IP if you need to bind to another address\n"
     ]
    },
    {
     "name": "stderr",
     "output_type": "stream",
     "text": [
      "Setting default log level to \"WARN\".\n",
      "To adjust logging level use sc.setLogLevel(newLevel). For SparkR, use setLogLevel(newLevel).\n"
     ]
    },
    {
     "name": "stdout",
     "output_type": "stream",
     "text": [
      "23/02/17 18:03:39 WARN NativeCodeLoader: Unable to load native-hadoop library for your platform... using builtin-java classes where applicable\n",
      "23/02/17 18:03:41 WARN Utils: Service 'SparkUI' could not bind on port 4040. Attempting port 4041.\n",
      "23/02/17 18:03:41 WARN Utils: Service 'SparkUI' could not bind on port 4041. Attempting port 4042.\n",
      "23/02/17 18:03:41 WARN Utils: Service 'SparkUI' could not bind on port 4042. Attempting port 4043.\n",
      "23/02/17 18:03:41 WARN Utils: Service 'SparkUI' could not bind on port 4043. Attempting port 4044.\n",
      "23/02/17 18:03:41 WARN Utils: Service 'SparkUI' could not bind on port 4044. Attempting port 4045.\n",
      "23/02/17 18:03:41 WARN Utils: Service 'SparkUI' could not bind on port 4045. Attempting port 4046.\n"
     ]
    }
   ],
   "source": [
    "from pyspark.sql import SparkSession\n",
    "spark = SparkSession.builder.appName('practise27').getOrCreate()"
   ]
  },
  {
   "cell_type": "markdown",
   "id": "35868ecd",
   "metadata": {},
   "source": [
    "## unionByName() help to merge 2 different dataframes having Different Schema"
   ]
  },
  {
   "cell_type": "code",
   "execution_count": 3,
   "id": "6ba8608f",
   "metadata": {},
   "outputs": [],
   "source": [
    "data1 = [(1,'sujeet','male'),(2,'ajeet','male'),(3,'akash','female')]\n",
    "schema1 = ['id','name','gender']\n",
    "\n",
    "data2 = [(1,'sujata','HR'),(4,'anita','Acountant'),(8,'amit','SDE')]\n",
    "schema2 = ['id','name','job']\n",
    "\n",
    "df1 = spark.createDataFrame(data1, schema1)\n",
    "df2 = spark.createDataFrame(data2, schema2)"
   ]
  },
  {
   "cell_type": "code",
   "execution_count": 5,
   "id": "940299a1",
   "metadata": {},
   "outputs": [
    {
     "name": "stderr",
     "output_type": "stream",
     "text": [
      "                                                                                \r"
     ]
    },
    {
     "name": "stdout",
     "output_type": "stream",
     "text": [
      "+---+------+------+\n",
      "| id|  name|gender|\n",
      "+---+------+------+\n",
      "|  1|sujeet|  male|\n",
      "|  2| ajeet|  male|\n",
      "|  3| akash|female|\n",
      "+---+------+------+\n",
      "\n",
      "+---+------+---------+\n",
      "| id|  name|      job|\n",
      "+---+------+---------+\n",
      "|  1|sujata|       HR|\n",
      "|  4| anita|Acountant|\n",
      "|  8|  amit|      SDE|\n",
      "+---+------+---------+\n",
      "\n"
     ]
    }
   ],
   "source": [
    "df1.show()\n",
    "df2.show()"
   ]
  },
  {
   "cell_type": "code",
   "execution_count": null,
   "id": "864d0bd2",
   "metadata": {},
   "outputs": [],
   "source": []
  },
  {
   "cell_type": "code",
   "execution_count": 6,
   "id": "008b6e7e",
   "metadata": {},
   "outputs": [
    {
     "name": "stdout",
     "output_type": "stream",
     "text": [
      "+---+------+---------+\n",
      "| id|  name|   gender|\n",
      "+---+------+---------+\n",
      "|  1|sujeet|     male|\n",
      "|  2| ajeet|     male|\n",
      "|  3| akash|   female|\n",
      "|  1|sujata|       HR|\n",
      "|  4| anita|Acountant|\n",
      "|  8|  amit|      SDE|\n",
      "+---+------+---------+\n",
      "\n"
     ]
    }
   ],
   "source": [
    "df1.union(df2).show()"
   ]
  },
  {
   "cell_type": "code",
   "execution_count": 9,
   "id": "7fd666f4",
   "metadata": {},
   "outputs": [
    {
     "name": "stdout",
     "output_type": "stream",
     "text": [
      "+---+------+------+---------+\n",
      "| id|  name|gender|      job|\n",
      "+---+------+------+---------+\n",
      "|  1|sujeet|  male|     null|\n",
      "|  2| ajeet|  male|     null|\n",
      "|  3| akash|female|     null|\n",
      "|  1|sujata|  null|       HR|\n",
      "|  4| anita|  null|Acountant|\n",
      "|  8|  amit|  null|      SDE|\n",
      "+---+------+------+---------+\n",
      "\n"
     ]
    }
   ],
   "source": [
    "df1.unionByName(df2, allowMissingColumns=True).show()"
   ]
  },
  {
   "cell_type": "code",
   "execution_count": null,
   "id": "06b4baa4",
   "metadata": {},
   "outputs": [],
   "source": []
  }
 ],
 "metadata": {
  "kernelspec": {
   "display_name": "Python 3 (ipykernel)",
   "language": "python",
   "name": "python3"
  },
  "language_info": {
   "codemirror_mode": {
    "name": "ipython",
    "version": 3
   },
   "file_extension": ".py",
   "mimetype": "text/x-python",
   "name": "python",
   "nbconvert_exporter": "python",
   "pygments_lexer": "ipython3",
   "version": "3.9.16"
  }
 },
 "nbformat": 4,
 "nbformat_minor": 5
}
