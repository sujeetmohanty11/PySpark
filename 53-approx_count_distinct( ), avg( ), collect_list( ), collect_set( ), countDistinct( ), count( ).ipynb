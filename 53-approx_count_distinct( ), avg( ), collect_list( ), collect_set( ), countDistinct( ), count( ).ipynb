{
 "cells": [
  {
   "cell_type": "code",
   "execution_count": 1,
   "id": "198402b7",
   "metadata": {},
   "outputs": [
    {
     "name": "stderr",
     "output_type": "stream",
     "text": [
      "23/02/20 12:59:04 WARN Utils: Your hostname, Sujeets-MacBook-Air.local resolves to a loopback address: 127.0.0.1; using 192.168.29.122 instead (on interface en0)\n",
      "23/02/20 12:59:04 WARN Utils: Set SPARK_LOCAL_IP if you need to bind to another address\n",
      "Using Spark's default log4j profile: org/apache/spark/log4j-defaults.properties\n",
      "Setting default log level to \"WARN\".\n",
      "To adjust logging level use sc.setLogLevel(newLevel). For SparkR, use setLogLevel(newLevel).\n",
      "23/02/20 12:59:05 WARN NativeCodeLoader: Unable to load native-hadoop library for your platform... using builtin-java classes where applicable\n",
      "23/02/20 12:59:07 WARN Utils: Service 'SparkUI' could not bind on port 4040. Attempting port 4041.\n",
      "23/02/20 12:59:07 WARN Utils: Service 'SparkUI' could not bind on port 4041. Attempting port 4042.\n",
      "23/02/20 12:59:07 WARN Utils: Service 'SparkUI' could not bind on port 4042. Attempting port 4043.\n",
      "23/02/20 12:59:07 WARN Utils: Service 'SparkUI' could not bind on port 4043. Attempting port 4044.\n",
      "23/02/20 12:59:07 WARN Utils: Service 'SparkUI' could not bind on port 4044. Attempting port 4045.\n"
     ]
    }
   ],
   "source": [
    "from pyspark.sql import SparkSession\n",
    "spark = SparkSession.builder.appName(\"practise53\").getOrCreate()"
   ]
  },
  {
   "cell_type": "code",
   "execution_count": null,
   "id": "01530a39",
   "metadata": {},
   "outputs": [],
   "source": []
  },
  {
   "cell_type": "code",
   "execution_count": 13,
   "id": "fdee34c9",
   "metadata": {},
   "outputs": [
    {
     "name": "stdout",
     "output_type": "stream",
     "text": [
      "+-------+-----+------+\n",
      "|   name| role|salary|\n",
      "+-------+-----+------+\n",
      "| Sujeet|  SDE|  1500|\n",
      "|Mohanty|title| 10324|\n",
      "|  Ajeet|  SDE| 12312|\n",
      "+-------+-----+------+\n",
      "\n",
      "+---------------------------+\n",
      "|approx_count_distinct(role)|\n",
      "+---------------------------+\n",
      "|                          2|\n",
      "+---------------------------+\n",
      "\n",
      "+-----------------+\n",
      "|      avg(salary)|\n",
      "+-----------------+\n",
      "|8045.333333333333|\n",
      "+-----------------+\n",
      "\n",
      "+------------------+\n",
      "|collect_list(role)|\n",
      "+------------------+\n",
      "| [SDE, title, SDE]|\n",
      "+------------------+\n",
      "\n",
      "+-----------------+\n",
      "|collect_set(role)|\n",
      "+-----------------+\n",
      "|     [SDE, title]|\n",
      "+-----------------+\n",
      "\n",
      "+--------------------+\n",
      "|count(DISTINCT role)|\n",
      "+--------------------+\n",
      "|                   2|\n",
      "+--------------------+\n",
      "\n",
      "+-----------+\n",
      "|count(role)|\n",
      "+-----------+\n",
      "|          3|\n",
      "+-----------+\n",
      "\n"
     ]
    }
   ],
   "source": [
    "from pyspark.sql.functions import approx_count_distinct, avg, collect_list, collect_set, countDistinct, count\n",
    "\n",
    "sampleData = [(\"Sujeet\",\"SDE\", 1500), (\"Mohanty\",\"title\",10324), (\"Ajeet\", \"SDE\", 12312)]\n",
    "schema = ['name', 'role', 'salary']\n",
    "\n",
    "df = spark.createDataFrame(sampleData, schema)\n",
    "\n",
    "df.show()\n",
    "df.select(approx_count_distinct(('role'))).show()\n",
    "df.select(avg(('salary'))).show()\n",
    "df.select(collect_list(('role'))).show()\n",
    "df.select(collect_set(('role'))).show()\n",
    "df.select(countDistinct(('role'))).show()\n",
    "df.select(count(('role'))).show()"
   ]
  },
  {
   "cell_type": "code",
   "execution_count": null,
   "id": "abcaebcc",
   "metadata": {},
   "outputs": [],
   "source": []
  },
  {
   "cell_type": "code",
   "execution_count": null,
   "id": "0fc74f70",
   "metadata": {},
   "outputs": [],
   "source": []
  },
  {
   "cell_type": "code",
   "execution_count": null,
   "id": "cce48ccd",
   "metadata": {},
   "outputs": [],
   "source": []
  }
 ],
 "metadata": {
  "kernelspec": {
   "display_name": "Python 3 (ipykernel)",
   "language": "python",
   "name": "python3"
  },
  "language_info": {
   "codemirror_mode": {
    "name": "ipython",
    "version": 3
   },
   "file_extension": ".py",
   "mimetype": "text/x-python",
   "name": "python",
   "nbconvert_exporter": "python",
   "pygments_lexer": "ipython3",
   "version": "3.9.16"
  }
 },
 "nbformat": 4,
 "nbformat_minor": 5
}
