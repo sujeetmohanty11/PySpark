{
 "cells": [
  {
   "cell_type": "markdown",
   "id": "2e421d53",
   "metadata": {},
   "source": [
    "# RDD (Resilient Distributed Dataset)"
   ]
  },
  {
   "cell_type": "markdown",
   "id": "cbec5c85",
   "metadata": {},
   "source": [
    "* Similar to List in Python"
   ]
  },
  {
   "cell_type": "code",
   "execution_count": 3,
   "id": "09204c3c",
   "metadata": {},
   "outputs": [
    {
     "name": "stderr",
     "output_type": "stream",
     "text": [
      "Using Spark's default log4j profile: org/apache/spark/log4j-defaults.properties\n",
      "Setting default log level to \"WARN\".\n",
      "To adjust logging level use sc.setLogLevel(newLevel). For SparkR, use setLogLevel(newLevel).\n",
      "23/02/19 18:34:17 WARN NativeCodeLoader: Unable to load native-hadoop library for your platform... using builtin-java classes where applicable\n"
     ]
    }
   ],
   "source": [
    "from pyspark.sql import SparkSession\n",
    "spark = SparkSession.builder.appName('practise41').getOrCreate()"
   ]
  },
  {
   "cell_type": "code",
   "execution_count": null,
   "id": "a5d3e078",
   "metadata": {},
   "outputs": [],
   "source": []
  },
  {
   "cell_type": "code",
   "execution_count": 4,
   "id": "3d3f882a",
   "metadata": {},
   "outputs": [],
   "source": [
    "data = [(1, 'sujeet'),(2, 'ajeet')]"
   ]
  },
  {
   "cell_type": "code",
   "execution_count": 5,
   "id": "6f29b453",
   "metadata": {},
   "outputs": [
    {
     "data": {
      "text/plain": [
       "list"
      ]
     },
     "execution_count": 5,
     "metadata": {},
     "output_type": "execute_result"
    }
   ],
   "source": [
    "type(data)"
   ]
  },
  {
   "cell_type": "code",
   "execution_count": 9,
   "id": "7455a871",
   "metadata": {},
   "outputs": [],
   "source": [
    "rdd_obj = spark.sparkContext.parallelize(data)"
   ]
  },
  {
   "cell_type": "code",
   "execution_count": 10,
   "id": "fdc8c6ed",
   "metadata": {},
   "outputs": [
    {
     "data": {
      "text/plain": [
       "pyspark.rdd.RDD"
      ]
     },
     "execution_count": 10,
     "metadata": {},
     "output_type": "execute_result"
    }
   ],
   "source": [
    "type(rdd_obj)"
   ]
  },
  {
   "cell_type": "code",
   "execution_count": 11,
   "id": "0f4c1d6b",
   "metadata": {},
   "outputs": [
    {
     "name": "stderr",
     "output_type": "stream",
     "text": [
      "                                                                                \r"
     ]
    },
    {
     "data": {
      "text/plain": [
       "[(1, 'sujeet'), (2, 'ajeet')]"
      ]
     },
     "execution_count": 11,
     "metadata": {},
     "output_type": "execute_result"
    }
   ],
   "source": [
    "rdd_obj.collect()"
   ]
  },
  {
   "cell_type": "code",
   "execution_count": null,
   "id": "374f2fcb",
   "metadata": {},
   "outputs": [],
   "source": []
  },
  {
   "cell_type": "code",
   "execution_count": null,
   "id": "a1ef7a56",
   "metadata": {},
   "outputs": [],
   "source": []
  },
  {
   "cell_type": "code",
   "execution_count": 16,
   "id": "141b4761",
   "metadata": {},
   "outputs": [
    {
     "name": "stdout",
     "output_type": "stream",
     "text": [
      "+---+------+\n",
      "| id|  name|\n",
      "+---+------+\n",
      "|  1|sujeet|\n",
      "|  2| ajeet|\n",
      "+---+------+\n",
      "\n"
     ]
    }
   ],
   "source": [
    "rdd_obj.toDF(schema=['id','name']).show()"
   ]
  },
  {
   "cell_type": "code",
   "execution_count": null,
   "id": "58a2db82",
   "metadata": {},
   "outputs": [],
   "source": []
  },
  {
   "cell_type": "code",
   "execution_count": 18,
   "id": "54410094",
   "metadata": {},
   "outputs": [
    {
     "name": "stdout",
     "output_type": "stream",
     "text": [
      "+---+------+\n",
      "| id|  name|\n",
      "+---+------+\n",
      "|  1|sujeet|\n",
      "|  2| ajeet|\n",
      "+---+------+\n",
      "\n"
     ]
    }
   ],
   "source": [
    "spark.createDataFrame(rdd_obj, schema=['id','name']).show()"
   ]
  },
  {
   "cell_type": "code",
   "execution_count": null,
   "id": "bcd5d277",
   "metadata": {},
   "outputs": [],
   "source": []
  }
 ],
 "metadata": {
  "kernelspec": {
   "display_name": "Python 3 (ipykernel)",
   "language": "python",
   "name": "python3"
  },
  "language_info": {
   "codemirror_mode": {
    "name": "ipython",
    "version": 3
   },
   "file_extension": ".py",
   "mimetype": "text/x-python",
   "name": "python",
   "nbconvert_exporter": "python",
   "pygments_lexer": "ipython3",
   "version": "3.9.16"
  }
 },
 "nbformat": 4,
 "nbformat_minor": 5
}
