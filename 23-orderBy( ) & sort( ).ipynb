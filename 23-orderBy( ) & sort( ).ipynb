{
 "cells": [
  {
   "cell_type": "code",
   "execution_count": 1,
   "id": "0b81cdbd",
   "metadata": {},
   "outputs": [
    {
     "name": "stderr",
     "output_type": "stream",
     "text": [
      "Setting default log level to \"WARN\".\n",
      "To adjust logging level use sc.setLogLevel(newLevel). For SparkR, use setLogLevel(newLevel).\n"
     ]
    },
    {
     "name": "stdout",
     "output_type": "stream",
     "text": [
      "23/02/17 16:44:44 WARN NativeCodeLoader: Unable to load native-hadoop library for your platform... using builtin-java classes where applicable\n",
      "23/02/17 16:44:47 WARN Utils: Service 'SparkUI' could not bind on port 4040. Attempting port 4041.\n",
      "23/02/17 16:44:47 WARN Utils: Service 'SparkUI' could not bind on port 4041. Attempting port 4042.\n"
     ]
    }
   ],
   "source": [
    "from pyspark.sql import SparkSession\n",
    "spark = SparkSession.builder.appName('practise23').getOrCreate()"
   ]
  },
  {
   "cell_type": "code",
   "execution_count": 8,
   "id": "b40c8105",
   "metadata": {},
   "outputs": [
    {
     "name": "stdout",
     "output_type": "stream",
     "text": [
      "+---+------+------+------+--------+\n",
      "| id|  name|gender|salary|    dept|\n",
      "+---+------+------+------+--------+\n",
      "|  1|sujeet|  male| 37000|      IT|\n",
      "|  2| ajeet|  male|  2729|Pay Roll|\n",
      "|  4| chunu|  male| 27229|      HR|\n",
      "|  3| akash|female|  7000|     SDE|\n",
      "+---+------+------+------+--------+\n",
      "\n",
      "root\n",
      " |-- id: long (nullable = true)\n",
      " |-- name: string (nullable = true)\n",
      " |-- gender: string (nullable = true)\n",
      " |-- salary: long (nullable = true)\n",
      " |-- dept: string (nullable = true)\n",
      "\n"
     ]
    }
   ],
   "source": [
    "data = [(1,'sujeet','male',37000,'IT'),(2,'ajeet','male',2729,'Pay Roll'),(4,'chunu','male',27229,'HR'),(3,'akash','female',7000,'SDE')]\n",
    "schema = ['id','name','gender','salary','dept']\n",
    "\n",
    "df = spark.createDataFrame(data, schema)\n",
    "df.show()\n",
    "df.printSchema()"
   ]
  },
  {
   "cell_type": "markdown",
   "id": "e261d9fe",
   "metadata": {},
   "source": [
    "# Sort()"
   ]
  },
  {
   "cell_type": "code",
   "execution_count": 9,
   "id": "c6b4f8f4",
   "metadata": {},
   "outputs": [
    {
     "name": "stdout",
     "output_type": "stream",
     "text": [
      "+---+------+------+------+--------+\n",
      "| id|  name|gender|salary|    dept|\n",
      "+---+------+------+------+--------+\n",
      "|  2| ajeet|  male|  2729|Pay Roll|\n",
      "|  3| akash|female|  7000|     SDE|\n",
      "|  4| chunu|  male| 27229|      HR|\n",
      "|  1|sujeet|  male| 37000|      IT|\n",
      "+---+------+------+------+--------+\n",
      "\n"
     ]
    }
   ],
   "source": [
    "df.sort(df.salary).show()"
   ]
  },
  {
   "cell_type": "code",
   "execution_count": 10,
   "id": "2fd7c316",
   "metadata": {},
   "outputs": [
    {
     "name": "stdout",
     "output_type": "stream",
     "text": [
      "+---+------+------+------+--------+\n",
      "| id|  name|gender|salary|    dept|\n",
      "+---+------+------+------+--------+\n",
      "|  4| chunu|  male| 27229|      HR|\n",
      "|  1|sujeet|  male| 37000|      IT|\n",
      "|  2| ajeet|  male|  2729|Pay Roll|\n",
      "|  3| akash|female|  7000|     SDE|\n",
      "+---+------+------+------+--------+\n",
      "\n"
     ]
    }
   ],
   "source": [
    "df.sort('dept').show()"
   ]
  },
  {
   "cell_type": "code",
   "execution_count": null,
   "id": "f3703a84",
   "metadata": {},
   "outputs": [],
   "source": []
  },
  {
   "cell_type": "markdown",
   "id": "f7142243",
   "metadata": {},
   "source": [
    "# OrderBy and Sort are Same"
   ]
  },
  {
   "cell_type": "code",
   "execution_count": null,
   "id": "f2800a3b",
   "metadata": {},
   "outputs": [],
   "source": []
  },
  {
   "cell_type": "markdown",
   "id": "93ea626d",
   "metadata": {},
   "source": [
    "# OrderBy()"
   ]
  },
  {
   "cell_type": "code",
   "execution_count": 22,
   "id": "07f94609",
   "metadata": {},
   "outputs": [
    {
     "name": "stdout",
     "output_type": "stream",
     "text": [
      "+---+------+------+------+--------+\n",
      "| id|  name|gender|salary|    dept|\n",
      "+---+------+------+------+--------+\n",
      "|  3| akash|female|  7000|     SDE|\n",
      "|  2| ajeet|  male|  2729|Pay Roll|\n",
      "|  1|sujeet|  male| 37000|      IT|\n",
      "|  4| chunu|  male| 27229|      HR|\n",
      "+---+------+------+------+--------+\n",
      "\n"
     ]
    }
   ],
   "source": [
    "df.orderBy(df.dept.desc()).show()"
   ]
  },
  {
   "cell_type": "code",
   "execution_count": 19,
   "id": "18b98688",
   "metadata": {},
   "outputs": [
    {
     "name": "stdout",
     "output_type": "stream",
     "text": [
      "+---+------+------+------+--------+\n",
      "| id|  name|gender|salary|    dept|\n",
      "+---+------+------+------+--------+\n",
      "|  3| akash|female|  7000|     SDE|\n",
      "|  2| ajeet|  male|  2729|Pay Roll|\n",
      "|  4| chunu|  male| 27229|      HR|\n",
      "|  1|sujeet|  male| 37000|      IT|\n",
      "+---+------+------+------+--------+\n",
      "\n"
     ]
    }
   ],
   "source": [
    "df.orderBy(['gender','salary']).show()"
   ]
  },
  {
   "cell_type": "code",
   "execution_count": null,
   "id": "c07e6f95",
   "metadata": {},
   "outputs": [],
   "source": []
  }
 ],
 "metadata": {
  "kernelspec": {
   "display_name": "Python 3 (ipykernel)",
   "language": "python",
   "name": "python3"
  },
  "language_info": {
   "codemirror_mode": {
    "name": "ipython",
    "version": 3
   },
   "file_extension": ".py",
   "mimetype": "text/x-python",
   "name": "python",
   "nbconvert_exporter": "python",
   "pygments_lexer": "ipython3",
   "version": "3.9.16"
  }
 },
 "nbformat": 4,
 "nbformat_minor": 5
}
