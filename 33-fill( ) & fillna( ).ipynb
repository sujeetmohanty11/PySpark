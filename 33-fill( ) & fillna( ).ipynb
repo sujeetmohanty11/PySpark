{
 "cells": [
  {
   "cell_type": "code",
   "execution_count": 1,
   "id": "27a7612b",
   "metadata": {},
   "outputs": [
    {
     "name": "stderr",
     "output_type": "stream",
     "text": [
      "23/02/18 18:22:49 WARN Utils: Your hostname, Sujeets-MacBook-Air.local resolves to a loopback address: 127.0.0.1; using 192.168.29.122 instead (on interface en0)\n",
      "23/02/18 18:22:49 WARN Utils: Set SPARK_LOCAL_IP if you need to bind to another address\n",
      "Using Spark's default log4j profile: org/apache/spark/log4j-defaults.properties\n",
      "Setting default log level to \"WARN\".\n",
      "To adjust logging level use sc.setLogLevel(newLevel). For SparkR, use setLogLevel(newLevel).\n",
      "23/02/18 18:22:51 WARN NativeCodeLoader: Unable to load native-hadoop library for your platform... using builtin-java classes where applicable\n",
      "23/02/18 18:22:53 WARN Utils: Service 'SparkUI' could not bind on port 4040. Attempting port 4041.\n",
      "23/02/18 18:22:53 WARN Utils: Service 'SparkUI' could not bind on port 4041. Attempting port 4042.\n"
     ]
    }
   ],
   "source": [
    "from pyspark.sql import SparkSession\n",
    "spark = SparkSession.builder.appName('practise33').getOrCreate()"
   ]
  },
  {
   "cell_type": "code",
   "execution_count": 17,
   "id": "ebc7a4f5",
   "metadata": {},
   "outputs": [],
   "source": [
    "data = [(2, 'wafa', 'male' ,6000, None),\\\n",
    "        (4, 'sarfaraj', None ,4000, 'HR'),\\\n",
    "        (6, 'mahaboob','male',2000, 'Payroll'),\\\n",
    "        (7, 'ayesha','female',3000, 'IT')]\n",
    "\n",
    "schema=['id','name', 'gender', 'salary','dep']\n",
    "df = spark.createDataFrame (data, schema)"
   ]
  },
  {
   "cell_type": "code",
   "execution_count": 18,
   "id": "470a4c89",
   "metadata": {},
   "outputs": [
    {
     "name": "stdout",
     "output_type": "stream",
     "text": [
      "+---+--------+------+------+-------+\n",
      "| id|    name|gender|salary|    dep|\n",
      "+---+--------+------+------+-------+\n",
      "|  2|    wafa|  male|  6000|   null|\n",
      "|  4|sarfaraj|  null|  4000|     HR|\n",
      "|  6|mahaboob|  male|  2000|Payroll|\n",
      "|  7|  ayesha|female|  3000|     IT|\n",
      "+---+--------+------+------+-------+\n",
      "\n"
     ]
    }
   ],
   "source": [
    "df.show()"
   ]
  },
  {
   "cell_type": "code",
   "execution_count": 19,
   "id": "65c203e7",
   "metadata": {},
   "outputs": [
    {
     "name": "stdout",
     "output_type": "stream",
     "text": [
      "root\n",
      " |-- id: long (nullable = true)\n",
      " |-- name: string (nullable = true)\n",
      " |-- gender: string (nullable = true)\n",
      " |-- salary: long (nullable = true)\n",
      " |-- dep: string (nullable = true)\n",
      "\n"
     ]
    }
   ],
   "source": [
    "df.printSchema()"
   ]
  },
  {
   "cell_type": "code",
   "execution_count": null,
   "id": "634d688e",
   "metadata": {},
   "outputs": [],
   "source": []
  },
  {
   "cell_type": "code",
   "execution_count": null,
   "id": "90c8bd68",
   "metadata": {},
   "outputs": [],
   "source": []
  },
  {
   "cell_type": "code",
   "execution_count": 23,
   "id": "86f3292f",
   "metadata": {},
   "outputs": [
    {
     "name": "stdout",
     "output_type": "stream",
     "text": [
      "+---+--------+-------+------+-------+\n",
      "| id|    name| gender|salary|    dep|\n",
      "+---+--------+-------+------+-------+\n",
      "|  2|    wafa|   male|  6000|unknown|\n",
      "|  4|sarfaraj|unknown|  4000|     HR|\n",
      "|  6|mahaboob|   male|  2000|Payroll|\n",
      "|  7|  ayesha| female|  3000|     IT|\n",
      "+---+--------+-------+------+-------+\n",
      "\n"
     ]
    }
   ],
   "source": [
    "df.fillna('unknown').show()"
   ]
  },
  {
   "cell_type": "code",
   "execution_count": null,
   "id": "009f7c48",
   "metadata": {},
   "outputs": [],
   "source": []
  },
  {
   "cell_type": "code",
   "execution_count": 21,
   "id": "efe47910",
   "metadata": {},
   "outputs": [
    {
     "name": "stdout",
     "output_type": "stream",
     "text": [
      "+---+--------+-------+------+-------+\n",
      "| id|    name| gender|salary|    dep|\n",
      "+---+--------+-------+------+-------+\n",
      "|  2|    wafa|   male|  6000|   null|\n",
      "|  4|sarfaraj|unknown|  4000|     HR|\n",
      "|  6|mahaboob|   male|  2000|Payroll|\n",
      "|  7|  ayesha| female|  3000|     IT|\n",
      "+---+--------+-------+------+-------+\n",
      "\n"
     ]
    }
   ],
   "source": [
    "df.fillna('unknown',['gender']).show()"
   ]
  },
  {
   "cell_type": "code",
   "execution_count": null,
   "id": "28d7dfb0",
   "metadata": {},
   "outputs": [],
   "source": []
  },
  {
   "cell_type": "code",
   "execution_count": null,
   "id": "70557d49",
   "metadata": {},
   "outputs": [],
   "source": []
  },
  {
   "cell_type": "code",
   "execution_count": null,
   "id": "5357db15",
   "metadata": {},
   "outputs": [],
   "source": []
  },
  {
   "cell_type": "code",
   "execution_count": 24,
   "id": "5e4314ce",
   "metadata": {},
   "outputs": [
    {
     "name": "stdout",
     "output_type": "stream",
     "text": [
      "+---+--------+-------+------+-------+\n",
      "| id|    name| gender|salary|    dep|\n",
      "+---+--------+-------+------+-------+\n",
      "|  2|    wafa|   male|  6000|   null|\n",
      "|  4|sarfaraj|unknown|  4000|     HR|\n",
      "|  6|mahaboob|   male|  2000|Payroll|\n",
      "|  7|  ayesha| female|  3000|     IT|\n",
      "+---+--------+-------+------+-------+\n",
      "\n"
     ]
    }
   ],
   "source": [
    "df.na.fill('unknown',['gender']).show()"
   ]
  },
  {
   "cell_type": "code",
   "execution_count": 25,
   "id": "958484d2",
   "metadata": {},
   "outputs": [],
   "source": [
    "# fillna and fill are same"
   ]
  },
  {
   "cell_type": "code",
   "execution_count": null,
   "id": "cf6d55b4",
   "metadata": {},
   "outputs": [],
   "source": []
  }
 ],
 "metadata": {
  "kernelspec": {
   "display_name": "Python 3 (ipykernel)",
   "language": "python",
   "name": "python3"
  },
  "language_info": {
   "codemirror_mode": {
    "name": "ipython",
    "version": 3
   },
   "file_extension": ".py",
   "mimetype": "text/x-python",
   "name": "python",
   "nbconvert_exporter": "python",
   "pygments_lexer": "ipython3",
   "version": "3.9.16"
  }
 },
 "nbformat": 4,
 "nbformat_minor": 5
}
