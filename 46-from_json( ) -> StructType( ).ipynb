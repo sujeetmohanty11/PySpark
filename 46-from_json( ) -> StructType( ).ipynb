{
 "cells": [
  {
   "cell_type": "code",
   "execution_count": 2,
   "id": "db75d182",
   "metadata": {},
   "outputs": [],
   "source": [
    "from pyspark.sql import SparkSession\n",
    "spark = SparkSession.builder.appName('practise46').getOrCreate()"
   ]
  },
  {
   "cell_type": "code",
   "execution_count": 4,
   "id": "395b76e9",
   "metadata": {},
   "outputs": [
    {
     "name": "stdout",
     "output_type": "stream",
     "text": [
      "+------+--------------------+\n",
      "|    id|               props|\n",
      "+------+--------------------+\n",
      "|sujeet|{\"hair\":\"black\", ...|\n",
      "+------+--------------------+\n",
      "\n",
      "root\n",
      " |-- id: string (nullable = true)\n",
      " |-- props: string (nullable = true)\n",
      "\n"
     ]
    }
   ],
   "source": [
    "data = [('sujeet','{\"hair\":\"black\", \"eye\":\"brown\"}')]\n",
    "schema = ['id','props']\n",
    "\n",
    "df = spark.createDataFrame(data,schema)\n",
    "df.show()\n",
    "df.printSchema()"
   ]
  },
  {
   "cell_type": "code",
   "execution_count": null,
   "id": "bba72dc7",
   "metadata": {},
   "outputs": [],
   "source": []
  },
  {
   "cell_type": "code",
   "execution_count": 11,
   "id": "d098425d",
   "metadata": {},
   "outputs": [
    {
     "name": "stdout",
     "output_type": "stream",
     "text": [
      "+------+-------------------------------+--------------+\n",
      "|id    |props                          |propsStruct   |\n",
      "+------+-------------------------------+--------------+\n",
      "|sujeet|{\"hair\":\"black\", \"eye\":\"brown\"}|{black, brown}|\n",
      "+------+-------------------------------+--------------+\n",
      "\n",
      "root\n",
      " |-- id: string (nullable = true)\n",
      " |-- props: string (nullable = true)\n",
      " |-- propsStruct: struct (nullable = true)\n",
      " |    |-- hair: string (nullable = true)\n",
      " |    |-- eye: string (nullable = true)\n",
      "\n"
     ]
    }
   ],
   "source": [
    "from pyspark.sql.functions import from_json\n",
    "from pyspark.sql.types import StructType, StructField, StringType, MapType\n",
    "\n",
    "StructTypeSchema = StructType([\\\n",
    "    StructField('hair', StringType()),\\\n",
    "    StructField('eye', StringType())\\\n",
    "])\n",
    "\n",
    "df1 = df.withColumn('propsStruct', from_json(df.props, StructTypeSchema))\n",
    "df1.show(truncate=False)\n",
    "df1.printSchema()"
   ]
  },
  {
   "cell_type": "code",
   "execution_count": 17,
   "id": "beffd7e9",
   "metadata": {},
   "outputs": [
    {
     "name": "stdout",
     "output_type": "stream",
     "text": [
      "+------+--------------------+--------------+-----+-----+\n",
      "|    id|               props|   propsStruct| hair|  eye|\n",
      "+------+--------------------+--------------+-----+-----+\n",
      "|sujeet|{\"hair\":\"black\", ...|{black, brown}|black|black|\n",
      "+------+--------------------+--------------+-----+-----+\n",
      "\n"
     ]
    }
   ],
   "source": [
    "df2 = df1.withColumn('hair', df1.propsStruct.hair)\\\n",
    ".withColumn('eye', df1.propsStruct.hair)\n",
    "\n",
    "df2.show()"
   ]
  },
  {
   "cell_type": "code",
   "execution_count": 22,
   "id": "e26a2ee0",
   "metadata": {},
   "outputs": [
    {
     "name": "stdout",
     "output_type": "stream",
     "text": [
      "+------+-----+-----+\n",
      "|    id| hair|  eye|\n",
      "+------+-----+-----+\n",
      "|sujeet|black|black|\n",
      "+------+-----+-----+\n",
      "\n"
     ]
    }
   ],
   "source": [
    "df2.drop('props','propsStruct').show()"
   ]
  },
  {
   "cell_type": "code",
   "execution_count": null,
   "id": "1dffdfc6",
   "metadata": {},
   "outputs": [],
   "source": []
  }
 ],
 "metadata": {
  "kernelspec": {
   "display_name": "Python 3 (ipykernel)",
   "language": "python",
   "name": "python3"
  },
  "language_info": {
   "codemirror_mode": {
    "name": "ipython",
    "version": 3
   },
   "file_extension": ".py",
   "mimetype": "text/x-python",
   "name": "python",
   "nbconvert_exporter": "python",
   "pygments_lexer": "ipython3",
   "version": "3.9.16"
  }
 },
 "nbformat": 4,
 "nbformat_minor": 5
}
