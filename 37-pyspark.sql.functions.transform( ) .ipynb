{
 "cells": [
  {
   "cell_type": "markdown",
   "id": "73ab2987",
   "metadata": {},
   "source": [
    "## this is used to transform a column with array type "
   ]
  },
  {
   "cell_type": "code",
   "execution_count": 1,
   "id": "a6a2bf63",
   "metadata": {},
   "outputs": [
    {
     "name": "stderr",
     "output_type": "stream",
     "text": [
      "23/02/18 19:08:29 WARN Utils: Your hostname, Sujeets-MacBook-Air.local resolves to a loopback address: 127.0.0.1; using 192.168.29.122 instead (on interface en0)\n",
      "23/02/18 19:08:29 WARN Utils: Set SPARK_LOCAL_IP if you need to bind to another address\n",
      "Using Spark's default log4j profile: org/apache/spark/log4j-defaults.properties\n",
      "Setting default log level to \"WARN\".\n",
      "To adjust logging level use sc.setLogLevel(newLevel). For SparkR, use setLogLevel(newLevel).\n",
      "23/02/18 19:08:30 WARN NativeCodeLoader: Unable to load native-hadoop library for your platform... using builtin-java classes where applicable\n",
      "23/02/18 19:08:31 WARN Utils: Service 'SparkUI' could not bind on port 4040. Attempting port 4041.\n",
      "23/02/18 19:08:31 WARN Utils: Service 'SparkUI' could not bind on port 4041. Attempting port 4042.\n",
      "23/02/18 19:08:31 WARN Utils: Service 'SparkUI' could not bind on port 4042. Attempting port 4043.\n",
      "23/02/18 19:08:31 WARN Utils: Service 'SparkUI' could not bind on port 4043. Attempting port 4044.\n",
      "23/02/18 19:08:31 WARN Utils: Service 'SparkUI' could not bind on port 4044. Attempting port 4045.\n",
      "23/02/18 19:08:31 WARN Utils: Service 'SparkUI' could not bind on port 4045. Attempting port 4046.\n"
     ]
    }
   ],
   "source": [
    "from pyspark.sql import SparkSession\n",
    "spark = SparkSession.builder.appName('practise37').getOrCreate()"
   ]
  },
  {
   "cell_type": "code",
   "execution_count": 6,
   "id": "6ea59615",
   "metadata": {},
   "outputs": [],
   "source": [
    "data = [(1, 'wafa', ['Java', 'JDBC']),\\\n",
    "        (2, 'sarfaraj', ['Python','FastAPI']),\\\n",
    "        (3, 'ayesha', ['Crypto','Solidity'])]\n",
    "\n",
    "schema=['id','name','skill']\n",
    "df = spark.createDataFrame (data, schema)"
   ]
  },
  {
   "cell_type": "code",
   "execution_count": 8,
   "id": "27224c22",
   "metadata": {},
   "outputs": [
    {
     "name": "stdout",
     "output_type": "stream",
     "text": [
      "+---+--------+------------------+\n",
      "| id|    name|             skill|\n",
      "+---+--------+------------------+\n",
      "|  1|    wafa|      [Java, JDBC]|\n",
      "|  2|sarfaraj| [Python, FastAPI]|\n",
      "|  3|  ayesha|[Crypto, Solidity]|\n",
      "+---+--------+------------------+\n",
      "\n",
      "root\n",
      " |-- id: long (nullable = true)\n",
      " |-- name: string (nullable = true)\n",
      " |-- skill: array (nullable = true)\n",
      " |    |-- element: string (containsNull = true)\n",
      "\n"
     ]
    }
   ],
   "source": [
    "df.show()\n",
    "df.printSchema()"
   ]
  },
  {
   "cell_type": "code",
   "execution_count": 11,
   "id": "984f10d3",
   "metadata": {},
   "outputs": [
    {
     "name": "stdout",
     "output_type": "stream",
     "text": [
      "+---+--------+------------------+\n",
      "| id|    name|            skills|\n",
      "+---+--------+------------------+\n",
      "|  1|    wafa|      [JAVA, JDBC]|\n",
      "|  2|sarfaraj| [PYTHON, FASTAPI]|\n",
      "|  3|  ayesha|[CRYPTO, SOLIDITY]|\n",
      "+---+--------+------------------+\n",
      "\n"
     ]
    }
   ],
   "source": [
    "from pyspark.sql.functions import transform, upper\n",
    "\n",
    "df.select('id','name', transform('skill', lambda x: upper(x)).alias('skills')).show()"
   ]
  },
  {
   "cell_type": "code",
   "execution_count": 18,
   "id": "5be558b8",
   "metadata": {},
   "outputs": [
    {
     "name": "stdout",
     "output_type": "stream",
     "text": [
      "+---+--------+-------------------------------------------------------------------------------------+\n",
      "| id|    name|transform(skill, lambdafunction(upper(namedlambdavariable()), namedlambdavariable()))|\n",
      "+---+--------+-------------------------------------------------------------------------------------+\n",
      "|  1|    wafa|                                                                         [JAVA, JDBC]|\n",
      "|  2|sarfaraj|                                                                    [PYTHON, FASTAPI]|\n",
      "|  3|  ayesha|                                                                   [CRYPTO, SOLIDITY]|\n",
      "+---+--------+-------------------------------------------------------------------------------------+\n",
      "\n"
     ]
    }
   ],
   "source": [
    "def toUpper(x):\n",
    "    return upper(x)\n",
    "\n",
    "df.select('id', 'name', transform('skill', toUpper)).show()"
   ]
  },
  {
   "cell_type": "code",
   "execution_count": null,
   "id": "8f76e18a",
   "metadata": {},
   "outputs": [],
   "source": []
  }
 ],
 "metadata": {
  "kernelspec": {
   "display_name": "Python 3 (ipykernel)",
   "language": "python",
   "name": "python3"
  },
  "language_info": {
   "codemirror_mode": {
    "name": "ipython",
    "version": 3
   },
   "file_extension": ".py",
   "mimetype": "text/x-python",
   "name": "python",
   "nbconvert_exporter": "python",
   "pygments_lexer": "ipython3",
   "version": "3.9.16"
  }
 },
 "nbformat": 4,
 "nbformat_minor": 5
}
