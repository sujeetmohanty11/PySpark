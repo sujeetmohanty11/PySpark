{
 "cells": [
  {
   "cell_type": "code",
   "execution_count": 1,
   "id": "35630dd4",
   "metadata": {},
   "outputs": [
    {
     "name": "stderr",
     "output_type": "stream",
     "text": [
      "23/02/18 18:07:47 WARN Utils: Your hostname, Sujeets-MacBook-Air.local resolves to a loopback address: 127.0.0.1; using 192.168.29.122 instead (on interface en0)\n",
      "23/02/18 18:07:47 WARN Utils: Set SPARK_LOCAL_IP if you need to bind to another address\n",
      "Using Spark's default log4j profile: org/apache/spark/log4j-defaults.properties\n",
      "Setting default log level to \"WARN\".\n",
      "To adjust logging level use sc.setLogLevel(newLevel). For SparkR, use setLogLevel(newLevel).\n",
      "23/02/18 18:07:48 WARN NativeCodeLoader: Unable to load native-hadoop library for your platform... using builtin-java classes where applicable\n"
     ]
    }
   ],
   "source": [
    "from pyspark.sql import SparkSession\n",
    "spark = SparkSession.builder.appName('pracstise31').getOrCreate()"
   ]
  },
  {
   "cell_type": "code",
   "execution_count": 2,
   "id": "f1840d97",
   "metadata": {},
   "outputs": [],
   "source": [
    "data = [(1, 'maheer', 'male', 5000, 'IT'),\\\n",
    "        (2, 'wafa', 'male' ,6000, 'IT'),\\\n",
    "        (3, 'asi','female',2500, 'Payroll'),\\\n",
    "        (4, 'sarfaraj', 'male',4000, 'HR'),\\\n",
    "        (5, 'pyarijaan','female' ,2000, 'HR'),\\\n",
    "        (6, 'mahaboob','male',2000, 'Payroll'),\\\n",
    "        (7, 'ayesha','female',3000, 'IT')]\n",
    "\n",
    "schema=['id','name', 'gender', 'salary','dep']\n",
    "df = spark.createDataFrame (data, schema)"
   ]
  },
  {
   "cell_type": "code",
   "execution_count": 3,
   "id": "f2983bf0",
   "metadata": {},
   "outputs": [
    {
     "name": "stderr",
     "output_type": "stream",
     "text": [
      "                                                                                \r"
     ]
    },
    {
     "name": "stdout",
     "output_type": "stream",
     "text": [
      "+---+---------+------+------+-------+\n",
      "| id|     name|gender|salary|    dep|\n",
      "+---+---------+------+------+-------+\n",
      "|  1|   maheer|  male|  5000|     IT|\n",
      "|  2|     wafa|  male|  6000|     IT|\n",
      "|  3|      asi|female|  2500|Payroll|\n",
      "|  4| sarfaraj|  male|  4000|     HR|\n",
      "|  5|pyarijaan|female|  2000|     HR|\n",
      "|  6| mahaboob|  male|  2000|Payroll|\n",
      "|  7|   ayesha|female|  3000|     IT|\n",
      "+---+---------+------+------+-------+\n",
      "\n"
     ]
    }
   ],
   "source": [
    "df.show()"
   ]
  },
  {
   "cell_type": "code",
   "execution_count": 7,
   "id": "d71bf9ad",
   "metadata": {},
   "outputs": [
    {
     "name": "stdout",
     "output_type": "stream",
     "text": [
      "+-------+------+-----+\n",
      "|    dep|gender|count|\n",
      "+-------+------+-----+\n",
      "|     IT|  male|    2|\n",
      "|Payroll|female|    1|\n",
      "|     HR|  male|    1|\n",
      "|     HR|female|    1|\n",
      "|Payroll|  male|    1|\n",
      "|     IT|female|    1|\n",
      "+-------+------+-----+\n",
      "\n"
     ]
    }
   ],
   "source": [
    "df.groupBy('dep','gender').count().show()"
   ]
  },
  {
   "cell_type": "code",
   "execution_count": null,
   "id": "1e51466d",
   "metadata": {},
   "outputs": [],
   "source": []
  },
  {
   "cell_type": "code",
   "execution_count": 11,
   "id": "69276af6",
   "metadata": {},
   "outputs": [
    {
     "name": "stdout",
     "output_type": "stream",
     "text": [
      "+-------+------+----+\n",
      "|    dep|female|male|\n",
      "+-------+------+----+\n",
      "|     HR|     1|   1|\n",
      "|Payroll|     1|   1|\n",
      "|     IT|     1|   2|\n",
      "+-------+------+----+\n",
      "\n"
     ]
    }
   ],
   "source": [
    "df.groupBy('dep').pivot('gender').count().show()"
   ]
  },
  {
   "cell_type": "code",
   "execution_count": null,
   "id": "973a556f",
   "metadata": {},
   "outputs": [],
   "source": []
  },
  {
   "cell_type": "code",
   "execution_count": null,
   "id": "c80f0c41",
   "metadata": {},
   "outputs": [],
   "source": []
  },
  {
   "cell_type": "code",
   "execution_count": null,
   "id": "222cfcfb",
   "metadata": {},
   "outputs": [],
   "source": []
  }
 ],
 "metadata": {
  "kernelspec": {
   "display_name": "Python 3 (ipykernel)",
   "language": "python",
   "name": "python3"
  },
  "language_info": {
   "codemirror_mode": {
    "name": "ipython",
    "version": 3
   },
   "file_extension": ".py",
   "mimetype": "text/x-python",
   "name": "python",
   "nbconvert_exporter": "python",
   "pygments_lexer": "ipython3",
   "version": "3.9.16"
  }
 },
 "nbformat": 4,
 "nbformat_minor": 5
}
