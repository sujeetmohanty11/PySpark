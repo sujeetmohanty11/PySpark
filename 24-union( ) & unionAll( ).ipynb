{
 "cells": [
  {
   "cell_type": "code",
   "execution_count": 1,
   "id": "19530930",
   "metadata": {},
   "outputs": [
    {
     "name": "stdout",
     "output_type": "stream",
     "text": [
      "23/02/17 17:17:05 WARN Utils: Your hostname, Sujeets-MacBook-Air.local resolves to a loopback address: 127.0.0.1; using 192.168.29.122 instead (on interface en0)\n",
      "23/02/17 17:17:05 WARN Utils: Set SPARK_LOCAL_IP if you need to bind to another address\n"
     ]
    },
    {
     "name": "stderr",
     "output_type": "stream",
     "text": [
      "Setting default log level to \"WARN\".\n",
      "To adjust logging level use sc.setLogLevel(newLevel). For SparkR, use setLogLevel(newLevel).\n"
     ]
    },
    {
     "name": "stdout",
     "output_type": "stream",
     "text": [
      "23/02/17 17:17:07 WARN NativeCodeLoader: Unable to load native-hadoop library for your platform... using builtin-java classes where applicable\n",
      "23/02/17 17:17:10 WARN Utils: Service 'SparkUI' could not bind on port 4040. Attempting port 4041.\n",
      "23/02/17 17:17:10 WARN Utils: Service 'SparkUI' could not bind on port 4041. Attempting port 4042.\n",
      "23/02/17 17:17:10 WARN Utils: Service 'SparkUI' could not bind on port 4042. Attempting port 4043.\n"
     ]
    }
   ],
   "source": [
    "from pyspark.sql import SparkSession\n",
    "spark = SparkSession.builder.appName('practise24').getOrCreate()"
   ]
  },
  {
   "cell_type": "code",
   "execution_count": 4,
   "id": "39c3531c",
   "metadata": {},
   "outputs": [],
   "source": [
    "data1 = [(1,'sujeet','male'),(2,'ajeet','male'),(3,'akash','female')]\n",
    "schema1 = ['id','name','gender']\n",
    "\n",
    "data2 = [(1,'sujata','female'),(4,'anita','female'),(8,'amit','male')]\n",
    "schema2 = ['id','name','gender']"
   ]
  },
  {
   "cell_type": "code",
   "execution_count": 8,
   "id": "e629dfe8",
   "metadata": {},
   "outputs": [
    {
     "name": "stdout",
     "output_type": "stream",
     "text": [
      "+---+------+------+\n",
      "| id|  name|gender|\n",
      "+---+------+------+\n",
      "|  1|sujeet|  male|\n",
      "|  2| ajeet|  male|\n",
      "|  3| akash|female|\n",
      "+---+------+------+\n",
      "\n"
     ]
    }
   ],
   "source": [
    "df1 = spark.createDataFrame(data1, schema)\n",
    "df1.show()"
   ]
  },
  {
   "cell_type": "code",
   "execution_count": 9,
   "id": "342d9ec3",
   "metadata": {},
   "outputs": [
    {
     "name": "stdout",
     "output_type": "stream",
     "text": [
      "+---+------+------+\n",
      "| id|  name|gender|\n",
      "+---+------+------+\n",
      "|  1|sujata|female|\n",
      "|  4| anita|female|\n",
      "|  8|  amit|  male|\n",
      "+---+------+------+\n",
      "\n"
     ]
    }
   ],
   "source": [
    "df2 = spark.createDataFrame(data2, schema)\n",
    "df2.show()"
   ]
  },
  {
   "cell_type": "code",
   "execution_count": 10,
   "id": "4b528800",
   "metadata": {},
   "outputs": [],
   "source": [
    "new_df = df1.union(df2)"
   ]
  },
  {
   "cell_type": "code",
   "execution_count": 14,
   "id": "f521b530",
   "metadata": {},
   "outputs": [
    {
     "name": "stdout",
     "output_type": "stream",
     "text": [
      "+---+------+------+\n",
      "| id|  name|gender|\n",
      "+---+------+------+\n",
      "|  1|sujata|female|\n",
      "|  1|sujeet|  male|\n",
      "|  2| ajeet|  male|\n",
      "|  3| akash|female|\n",
      "|  4| anita|female|\n",
      "|  8|  amit|  male|\n",
      "+---+------+------+\n",
      "\n"
     ]
    }
   ],
   "source": [
    "new_df.sort('id').show()"
   ]
  },
  {
   "cell_type": "code",
   "execution_count": null,
   "id": "e6683727",
   "metadata": {},
   "outputs": [],
   "source": []
  },
  {
   "cell_type": "code",
   "execution_count": 26,
   "id": "c4a44aca",
   "metadata": {},
   "outputs": [
    {
     "name": "stdout",
     "output_type": "stream",
     "text": [
      "+---+------+------+\n",
      "| id|  name|gender|\n",
      "+---+------+------+\n",
      "|  1|sujeet|  male|\n",
      "|  2| ajeet|  male|\n",
      "|  3| akash|female|\n",
      "|  1|sujata|female|\n",
      "|  4| anita|female|\n",
      "|  8|  amit|  male|\n",
      "+---+------+------+\n",
      "\n"
     ]
    }
   ],
   "source": [
    "new_df2 = df1.unionAll(df2)\n",
    "new_df2.show()"
   ]
  },
  {
   "cell_type": "code",
   "execution_count": null,
   "id": "3725dc83",
   "metadata": {},
   "outputs": [],
   "source": []
  }
 ],
 "metadata": {
  "kernelspec": {
   "display_name": "Python 3 (ipykernel)",
   "language": "python",
   "name": "python3"
  },
  "language_info": {
   "codemirror_mode": {
    "name": "ipython",
    "version": 3
   },
   "file_extension": ".py",
   "mimetype": "text/x-python",
   "name": "python",
   "nbconvert_exporter": "python",
   "pygments_lexer": "ipython3",
   "version": "3.9.16"
  }
 },
 "nbformat": 4,
 "nbformat_minor": 5
}
