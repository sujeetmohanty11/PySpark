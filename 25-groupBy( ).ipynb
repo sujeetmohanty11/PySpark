{
 "cells": [
  {
   "cell_type": "code",
   "execution_count": 1,
   "id": "5bb1006d",
   "metadata": {},
   "outputs": [
    {
     "name": "stdout",
     "output_type": "stream",
     "text": [
      "23/02/17 17:43:32 WARN Utils: Your hostname, Sujeets-MacBook-Air.local resolves to a loopback address: 127.0.0.1; using 192.168.29.122 instead (on interface en0)\n",
      "23/02/17 17:43:32 WARN Utils: Set SPARK_LOCAL_IP if you need to bind to another address\n"
     ]
    },
    {
     "name": "stderr",
     "output_type": "stream",
     "text": [
      "Setting default log level to \"WARN\".\n",
      "To adjust logging level use sc.setLogLevel(newLevel). For SparkR, use setLogLevel(newLevel).\n"
     ]
    },
    {
     "name": "stdout",
     "output_type": "stream",
     "text": [
      "23/02/17 17:43:33 WARN NativeCodeLoader: Unable to load native-hadoop library for your platform... using builtin-java classes where applicable\n",
      "23/02/17 17:43:34 WARN Utils: Service 'SparkUI' could not bind on port 4040. Attempting port 4041.\n",
      "23/02/17 17:43:34 WARN Utils: Service 'SparkUI' could not bind on port 4041. Attempting port 4042.\n",
      "23/02/17 17:43:34 WARN Utils: Service 'SparkUI' could not bind on port 4042. Attempting port 4043.\n",
      "23/02/17 17:43:34 WARN Utils: Service 'SparkUI' could not bind on port 4043. Attempting port 4044.\n"
     ]
    }
   ],
   "source": [
    "from pyspark.sql import SparkSession\n",
    "spark = SparkSession.builder.appName('practise25').getOrCreate()"
   ]
  },
  {
   "cell_type": "code",
   "execution_count": 9,
   "id": "d9b7c5d3",
   "metadata": {},
   "outputs": [],
   "source": [
    "data = [(1, 'maheer', 'M', 5000, 'IT'),\\\n",
    "        (2, 'wafa', 'M' ,6000, 'IT'),\\\n",
    "        (3, 'asi','F',2500, 'Payroll'),\\\n",
    "        (4, 'sarfaraj', 'M',4000, 'HR'),\\\n",
    "        (5, 'pyarijaan','F' ,2000, 'HR'),\\\n",
    "        (6, 'Mahaboob','M',2000, 'Payroll'),\\\n",
    "        (7, 'ayesha','F',3000, 'IT')]\n",
    "\n",
    "schema=['id','name', 'gender', 'salary','dep']\n",
    "df = spark.createDataFrame (data, schema)"
   ]
  },
  {
   "cell_type": "code",
   "execution_count": 10,
   "id": "dbe7df42",
   "metadata": {},
   "outputs": [
    {
     "name": "stderr",
     "output_type": "stream",
     "text": [
      "                                                                                \r"
     ]
    },
    {
     "name": "stdout",
     "output_type": "stream",
     "text": [
      "+---+---------+------+------+-------+\n",
      "| id|     name|gender|salary|    dep|\n",
      "+---+---------+------+------+-------+\n",
      "|  1|   maheer|     M|  5000|     IT|\n",
      "|  2|     wafa|     M|  6000|     IT|\n",
      "|  3|      asi|     F|  2500|Payroll|\n",
      "|  4| sarfaraj|     M|  4000|     HR|\n",
      "|  5|pyarijaan|     F|  2000|     HR|\n",
      "|  6| Mahaboob|     M|  2000|Payroll|\n",
      "|  7|   ayesha|     F|  3000|     IT|\n",
      "+---+---------+------+------+-------+\n",
      "\n"
     ]
    }
   ],
   "source": [
    "df.show()"
   ]
  },
  {
   "cell_type": "code",
   "execution_count": 21,
   "id": "04f102cf",
   "metadata": {},
   "outputs": [
    {
     "name": "stdout",
     "output_type": "stream",
     "text": [
      "+------+-------+-----------+\n",
      "|gender|sum(id)|sum(salary)|\n",
      "+------+-------+-----------+\n",
      "|     M|     13|      17000|\n",
      "|     F|     15|       7500|\n",
      "+------+-------+-----------+\n",
      "\n"
     ]
    }
   ],
   "source": [
    "df.groupBy('gender').sum().show()"
   ]
  },
  {
   "cell_type": "code",
   "execution_count": 20,
   "id": "c238509e",
   "metadata": {},
   "outputs": [
    {
     "name": "stdout",
     "output_type": "stream",
     "text": [
      "+-------+-----+\n",
      "|    dep|count|\n",
      "+-------+-----+\n",
      "|     IT|    3|\n",
      "|Payroll|    2|\n",
      "|     HR|    2|\n",
      "+-------+-----+\n",
      "\n"
     ]
    }
   ],
   "source": [
    "df.groupBy('dep').count().show()"
   ]
  },
  {
   "cell_type": "code",
   "execution_count": 22,
   "id": "ea96e43b",
   "metadata": {},
   "outputs": [
    {
     "name": "stdout",
     "output_type": "stream",
     "text": [
      "+-------+------+-----+\n",
      "|    dep|gender|count|\n",
      "+-------+------+-----+\n",
      "|     IT|     M|    2|\n",
      "|Payroll|     F|    1|\n",
      "|     HR|     M|    1|\n",
      "|     HR|     F|    1|\n",
      "|Payroll|     M|    1|\n",
      "|     IT|     F|    1|\n",
      "+-------+------+-----+\n",
      "\n"
     ]
    }
   ],
   "source": [
    "df.groupBy(['dep','gender']).count().show()"
   ]
  },
  {
   "cell_type": "code",
   "execution_count": null,
   "id": "9aa461d6",
   "metadata": {},
   "outputs": [],
   "source": []
  }
 ],
 "metadata": {
  "kernelspec": {
   "display_name": "Python 3 (ipykernel)",
   "language": "python",
   "name": "python3"
  },
  "language_info": {
   "codemirror_mode": {
    "name": "ipython",
    "version": 3
   },
   "file_extension": ".py",
   "mimetype": "text/x-python",
   "name": "python",
   "nbconvert_exporter": "python",
   "pygments_lexer": "ipython3",
   "version": "3.9.16"
  }
 },
 "nbformat": 4,
 "nbformat_minor": 5
}
