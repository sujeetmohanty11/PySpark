{
 "cells": [
  {
   "cell_type": "code",
   "execution_count": 1,
   "id": "217b3a2d",
   "metadata": {},
   "outputs": [
    {
     "name": "stdout",
     "output_type": "stream",
     "text": [
      "23/02/17 17:56:41 WARN Utils: Your hostname, Sujeets-MacBook-Air.local resolves to a loopback address: 127.0.0.1; using 192.168.29.122 instead (on interface en0)\n",
      "23/02/17 17:56:41 WARN Utils: Set SPARK_LOCAL_IP if you need to bind to another address\n"
     ]
    },
    {
     "name": "stderr",
     "output_type": "stream",
     "text": [
      "Setting default log level to \"WARN\".\n",
      "To adjust logging level use sc.setLogLevel(newLevel). For SparkR, use setLogLevel(newLevel).\n"
     ]
    },
    {
     "name": "stdout",
     "output_type": "stream",
     "text": [
      "23/02/17 17:56:42 WARN NativeCodeLoader: Unable to load native-hadoop library for your platform... using builtin-java classes where applicable\n",
      "23/02/17 17:56:44 WARN Utils: Service 'SparkUI' could not bind on port 4040. Attempting port 4041.\n",
      "23/02/17 17:56:44 WARN Utils: Service 'SparkUI' could not bind on port 4041. Attempting port 4042.\n",
      "23/02/17 17:56:44 WARN Utils: Service 'SparkUI' could not bind on port 4042. Attempting port 4043.\n",
      "23/02/17 17:56:44 WARN Utils: Service 'SparkUI' could not bind on port 4043. Attempting port 4044.\n",
      "23/02/17 17:56:44 WARN Utils: Service 'SparkUI' could not bind on port 4044. Attempting port 4045.\n"
     ]
    }
   ],
   "source": [
    "from pyspark.sql import SparkSession\n",
    "spark = SparkSession.builder.appName('practise26').getOrCreate()"
   ]
  },
  {
   "cell_type": "code",
   "execution_count": 2,
   "id": "089ec185",
   "metadata": {},
   "outputs": [],
   "source": [
    "data = [(1, 'maheer', 'M', 5000, 'IT'),\\\n",
    "        (2, 'wafa', 'M' ,6000, 'IT'),\\\n",
    "        (3, 'asi','F',2500, 'Payroll'),\\\n",
    "        (4, 'sarfaraj', 'M',4000, 'HR'),\\\n",
    "        (5, 'pyarijaan','F' ,2000, 'HR'),\\\n",
    "        (6, 'Mahaboob','M',2000, 'Payroll'),\\\n",
    "        (7, 'ayesha','F',3000, 'IT')]\n",
    "\n",
    "schema=['id','name', 'gender', 'salary','dep']\n",
    "df = spark.createDataFrame (data, schema)"
   ]
  },
  {
   "cell_type": "code",
   "execution_count": null,
   "id": "74888af6",
   "metadata": {},
   "outputs": [],
   "source": []
  },
  {
   "cell_type": "code",
   "execution_count": null,
   "id": "8a6c5c65",
   "metadata": {},
   "outputs": [],
   "source": []
  },
  {
   "cell_type": "code",
   "execution_count": 5,
   "id": "fff8d7da",
   "metadata": {},
   "outputs": [
    {
     "name": "stderr",
     "output_type": "stream",
     "text": [
      "[Stage 2:>                                                          (0 + 1) / 1]\r"
     ]
    },
    {
     "name": "stdout",
     "output_type": "stream",
     "text": [
      "+-------+-----+\n",
      "|    dep|count|\n",
      "+-------+-----+\n",
      "|     IT|    3|\n",
      "|Payroll|    2|\n",
      "|     HR|    2|\n",
      "+-------+-----+\n",
      "\n"
     ]
    },
    {
     "name": "stderr",
     "output_type": "stream",
     "text": [
      "\r",
      "                                                                                \r"
     ]
    }
   ],
   "source": [
    "df.groupBy('dep').count().show()"
   ]
  },
  {
   "cell_type": "code",
   "execution_count": null,
   "id": "7d2fb0cc",
   "metadata": {},
   "outputs": [],
   "source": []
  },
  {
   "cell_type": "code",
   "execution_count": 10,
   "id": "153f7ae8",
   "metadata": {},
   "outputs": [
    {
     "name": "stdout",
     "output_type": "stream",
     "text": [
      "+-------+-----------+------+------+\n",
      "|    dep|countOfEmps|minSal|maxSal|\n",
      "+-------+-----------+------+------+\n",
      "|     IT|          3|  3000|  6000|\n",
      "|Payroll|          2|  2000|  2500|\n",
      "|     HR|          2|  2000|  4000|\n",
      "+-------+-----------+------+------+\n",
      "\n"
     ]
    }
   ],
   "source": [
    "from pyspark.sql.functions import max, min, count\n",
    "\n",
    "df.groupBy('dep').agg(count('*').alias('countOfEmps'),\\\n",
    "                     min('salary').alias('minSal'),\\\n",
    "                    max('salary').alias('maxSal')).show()"
   ]
  },
  {
   "cell_type": "code",
   "execution_count": null,
   "id": "c857ccb6",
   "metadata": {},
   "outputs": [],
   "source": []
  }
 ],
 "metadata": {
  "kernelspec": {
   "display_name": "Python 3 (ipykernel)",
   "language": "python",
   "name": "python3"
  },
  "language_info": {
   "codemirror_mode": {
    "name": "ipython",
    "version": 3
   },
   "file_extension": ".py",
   "mimetype": "text/x-python",
   "name": "python",
   "nbconvert_exporter": "python",
   "pygments_lexer": "ipython3",
   "version": "3.9.16"
  }
 },
 "nbformat": 4,
 "nbformat_minor": 5
}
