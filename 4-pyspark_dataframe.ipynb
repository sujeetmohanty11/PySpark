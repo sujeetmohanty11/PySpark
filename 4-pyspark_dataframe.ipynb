{
 "cells": [
  {
   "cell_type": "markdown",
   "id": "5d88ad9d",
   "metadata": {},
   "source": [
    "# Notebook Content\n",
    "* Filter Operations\n",
    "* &,|,==\n",
    "* ~"
   ]
  },
  {
   "cell_type": "code",
   "execution_count": 15,
   "id": "09ff3b52",
   "metadata": {},
   "outputs": [
    {
     "name": "stdout",
     "output_type": "stream",
     "text": [
      "23/02/15 01:49:01 WARN SparkSession: Using an existing Spark session; only runtime SQL configurations will take effect.\n"
     ]
    }
   ],
   "source": [
    "from pyspark.sql import SparkSession\n",
    "spark = SparkSession.builder.appName('Practise4').getOrCreate()"
   ]
  },
  {
   "cell_type": "code",
   "execution_count": 16,
   "id": "5d152ee6",
   "metadata": {},
   "outputs": [],
   "source": [
    "df_spark = spark.read.csv('test4.csv', header=True, inferSchema=True)"
   ]
  },
  {
   "cell_type": "code",
   "execution_count": 17,
   "id": "08ba4696",
   "metadata": {},
   "outputs": [
    {
     "name": "stdout",
     "output_type": "stream",
     "text": [
      "+-------+---+----------+------+\n",
      "|   Name|Age|Experience|Salary|\n",
      "+-------+---+----------+------+\n",
      "| Sujeet| 22|         3| 35000|\n",
      "|  Ajeet| 18|         2| 26000|\n",
      "|  Akash| 14|         4| 20000|\n",
      "|  Manoj| 33|         1| 20000|\n",
      "|Manisha| 37|         8| 15000|\n",
      "|  Chunu|  5|         7| 18000|\n",
      "+-------+---+----------+------+\n",
      "\n"
     ]
    }
   ],
   "source": [
    "df_spark.show()"
   ]
  },
  {
   "cell_type": "code",
   "execution_count": 18,
   "id": "91787f0b",
   "metadata": {},
   "outputs": [
    {
     "name": "stdout",
     "output_type": "stream",
     "text": [
      "root\n",
      " |-- Name: string (nullable = true)\n",
      " |-- Age: integer (nullable = true)\n",
      " |-- Experience: integer (nullable = true)\n",
      " |-- Salary: integer (nullable = true)\n",
      "\n"
     ]
    }
   ],
   "source": [
    "df_spark.printSchema()"
   ]
  },
  {
   "cell_type": "markdown",
   "id": "425a3f97",
   "metadata": {},
   "source": [
    "## Filter Operations"
   ]
  },
  {
   "cell_type": "code",
   "execution_count": 20,
   "id": "af053f8d",
   "metadata": {},
   "outputs": [],
   "source": [
    "# Salary of People less than or equal to 20000"
   ]
  },
  {
   "cell_type": "code",
   "execution_count": 23,
   "id": "d4ed2b22",
   "metadata": {},
   "outputs": [
    {
     "name": "stdout",
     "output_type": "stream",
     "text": [
      "+-------+---+----------+------+\n",
      "|   Name|Age|Experience|Salary|\n",
      "+-------+---+----------+------+\n",
      "|  Akash| 14|         4| 20000|\n",
      "|  Manoj| 33|         1| 20000|\n",
      "|Manisha| 37|         8| 15000|\n",
      "|  Chunu|  5|         7| 18000|\n",
      "+-------+---+----------+------+\n",
      "\n"
     ]
    }
   ],
   "source": [
    "df_spark.filter(df_spark['Salary']<=20000).show()"
   ]
  },
  {
   "cell_type": "code",
   "execution_count": 24,
   "id": "8b7448d3",
   "metadata": {},
   "outputs": [
    {
     "name": "stdout",
     "output_type": "stream",
     "text": [
      "+-------+---+----------+------+\n",
      "|   Name|Age|Experience|Salary|\n",
      "+-------+---+----------+------+\n",
      "|  Akash| 14|         4| 20000|\n",
      "|  Manoj| 33|         1| 20000|\n",
      "|Manisha| 37|         8| 15000|\n",
      "|  Chunu|  5|         7| 18000|\n",
      "+-------+---+----------+------+\n",
      "\n"
     ]
    }
   ],
   "source": [
    "#Alternate\n",
    "df_spark.filter(\"Salary<=20000\").show()"
   ]
  },
  {
   "cell_type": "code",
   "execution_count": 22,
   "id": "d829ef85",
   "metadata": {},
   "outputs": [
    {
     "name": "stdout",
     "output_type": "stream",
     "text": [
      "+-------+\n",
      "|   Name|\n",
      "+-------+\n",
      "|  Akash|\n",
      "|  Manoj|\n",
      "|Manisha|\n",
      "|  Chunu|\n",
      "+-------+\n",
      "\n"
     ]
    }
   ],
   "source": [
    "df_spark.filter(\"Salary<=20000\").select(['Name']).show()"
   ]
  },
  {
   "cell_type": "code",
   "execution_count": null,
   "id": "5d166152",
   "metadata": {},
   "outputs": [],
   "source": []
  },
  {
   "cell_type": "code",
   "execution_count": null,
   "id": "fd6bf1a2",
   "metadata": {},
   "outputs": [],
   "source": []
  },
  {
   "cell_type": "code",
   "execution_count": 25,
   "id": "1e7e2d5b",
   "metadata": {},
   "outputs": [],
   "source": [
    "#Multiple Conditions"
   ]
  },
  {
   "cell_type": "code",
   "execution_count": 29,
   "id": "afd59e35",
   "metadata": {},
   "outputs": [
    {
     "name": "stdout",
     "output_type": "stream",
     "text": [
      "+-------+---+----------+------+\n",
      "|   Name|Age|Experience|Salary|\n",
      "+-------+---+----------+------+\n",
      "| Sujeet| 22|         3| 35000|\n",
      "|  Akash| 14|         4| 20000|\n",
      "|  Manoj| 33|         1| 20000|\n",
      "|Manisha| 37|         8| 15000|\n",
      "|  Chunu|  5|         7| 18000|\n",
      "+-------+---+----------+------+\n",
      "\n"
     ]
    }
   ],
   "source": [
    "#or\n",
    "df_spark.filter((df_spark['Salary']<=20000) | (df_spark['Salary']>=30000)).show()"
   ]
  },
  {
   "cell_type": "code",
   "execution_count": 31,
   "id": "92a9427b",
   "metadata": {},
   "outputs": [
    {
     "name": "stdout",
     "output_type": "stream",
     "text": [
      "+-------+---+----------+------+\n",
      "|   Name|Age|Experience|Salary|\n",
      "+-------+---+----------+------+\n",
      "|  Akash| 14|         4| 20000|\n",
      "|  Manoj| 33|         1| 20000|\n",
      "|Manisha| 37|         8| 15000|\n",
      "|  Chunu|  5|         7| 18000|\n",
      "+-------+---+----------+------+\n",
      "\n"
     ]
    }
   ],
   "source": [
    "#and\n",
    "df_spark.filter((df_spark['Salary']>=15000) & (df_spark['Salary']<=22000)).show()"
   ]
  },
  {
   "cell_type": "code",
   "execution_count": 33,
   "id": "ea9d60b5",
   "metadata": {},
   "outputs": [
    {
     "name": "stdout",
     "output_type": "stream",
     "text": [
      "+------+---+----------+------+\n",
      "|  Name|Age|Experience|Salary|\n",
      "+------+---+----------+------+\n",
      "|Sujeet| 22|         3| 35000|\n",
      "| Ajeet| 18|         2| 26000|\n",
      "+------+---+----------+------+\n",
      "\n"
     ]
    }
   ],
   "source": [
    "#not\n",
    "df_spark.filter(~(df_spark['Salary']<=20000)).show()"
   ]
  },
  {
   "cell_type": "code",
   "execution_count": null,
   "id": "7640d946",
   "metadata": {},
   "outputs": [],
   "source": []
  }
 ],
 "metadata": {
  "kernelspec": {
   "display_name": "Python 3 (ipykernel)",
   "language": "python",
   "name": "python3"
  },
  "language_info": {
   "codemirror_mode": {
    "name": "ipython",
    "version": 3
   },
   "file_extension": ".py",
   "mimetype": "text/x-python",
   "name": "python",
   "nbconvert_exporter": "python",
   "pygments_lexer": "ipython3",
   "version": "3.9.16"
  }
 },
 "nbformat": 4,
 "nbformat_minor": 5
}
