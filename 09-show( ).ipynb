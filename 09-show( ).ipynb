{
 "cells": [
  {
   "cell_type": "code",
   "execution_count": 1,
   "id": "b458916f",
   "metadata": {},
   "outputs": [
    {
     "name": "stderr",
     "output_type": "stream",
     "text": [
      "Setting default log level to \"WARN\".\n",
      "To adjust logging level use sc.setLogLevel(newLevel). For SparkR, use setLogLevel(newLevel).\n"
     ]
    },
    {
     "name": "stdout",
     "output_type": "stream",
     "text": [
      "23/02/16 18:07:04 WARN NativeCodeLoader: Unable to load native-hadoop library for your platform... using builtin-java classes where applicable\n",
      "23/02/16 18:07:05 WARN Utils: Service 'SparkUI' could not bind on port 4040. Attempting port 4041.\n"
     ]
    }
   ],
   "source": [
    "from pyspark.sql import SparkSession\n",
    "spark = SparkSession.builder.appName('practise9').getOrCreate()"
   ]
  },
  {
   "cell_type": "code",
   "execution_count": 3,
   "id": "14bc1ae8",
   "metadata": {},
   "outputs": [
    {
     "name": "stderr",
     "output_type": "stream",
     "text": [
      "\r",
      "[Stage 0:>                                                          (0 + 1) / 1]\r",
      "\r",
      "                                                                                \r"
     ]
    }
   ],
   "source": [
    "df = spark.read.csv('tips.csv', header=True, inferSchema=True)"
   ]
  },
  {
   "cell_type": "code",
   "execution_count": 10,
   "id": "f8d99f6e",
   "metadata": {},
   "outputs": [
    {
     "name": "stdout",
     "output_type": "stream",
     "text": [
      "+----------+----+------+------+---+------+----+\n",
      "|total_bill| tip|   sex|smoker|day|  time|size|\n",
      "+----------+----+------+------+---+------+----+\n",
      "|     16.99|1.01|Female|    No|Sun|Dinner|   2|\n",
      "|     10.34|1.66|  Male|    No|Sun|Dinner|   3|\n",
      "|     21.01| 3.5|  Male|    No|Sun|Dinner|   3|\n",
      "|     23.68|3.31|  Male|    No|Sun|Dinner|   2|\n",
      "|     24.59|3.61|Female|    No|Sun|Dinner|   4|\n",
      "+----------+----+------+------+---+------+----+\n",
      "only showing top 5 rows\n",
      "\n"
     ]
    }
   ],
   "source": [
    "df.show(5)"
   ]
  },
  {
   "cell_type": "code",
   "execution_count": 14,
   "id": "5cb21d07",
   "metadata": {},
   "outputs": [
    {
     "name": "stderr",
     "output_type": "stream",
     "text": [
      "\r",
      "[Stage 9:>                                                          (0 + 1) / 1]\r",
      "\r",
      "                                                                                \r"
     ]
    }
   ],
   "source": [
    "df2 = spark.read.parquet('userdata1.parquet')"
   ]
  },
  {
   "cell_type": "code",
   "execution_count": 20,
   "id": "9c6ec176",
   "metadata": {},
   "outputs": [
    {
     "name": "stdout",
     "output_type": "stream",
     "text": [
      "+-----------------+---+----------+---------+------+------+----------+------+-------+---------+------+------+--------+\n",
      "|registration_dttm| id|first_name|last_name| email|gender|ip_address|    cc|country|birthdate|salary| title|comments|\n",
      "+-----------------+---+----------+---------+------+------+----------+------+-------+---------+------+------+--------+\n",
      "|           201...|  1|    Amanda|   Jordan|ajo...|Female|    1.1...|675...| Ind...|   3/8...|497...|Int...|   1E+02|\n",
      "|           201...|  2|    Albert|   Fre...|afr...|  Male|    218...|      | Canada|   1/1...|150...|Acc...|        |\n",
      "|           201...|  3|    Evelyn|   Morgan|emo...|Female|    7.1...|676...| Russia|   2/1...|144...|Str...|        |\n",
      "|           201...|  4|    Denise|    Riley|dri...|Female|    140...|357...|  China|   4/8...|902...|Sen...|        |\n",
      "|           201...|  5|    Carlos|    Burns|cbu...|      |    169...|560...| Sou...|         |  null|      |        |\n",
      "|           201...|  6|    Kat...|    White|kwh...|Female|    195...|358...| Ind...|   2/2...|692...|Acc...|        |\n",
      "|           201...|  7|    Samuel|   Holmes|sho...|  Male|    232...|358...| Por...|   12/...|142...|Sen...|        |\n",
      "|           201...|  8|     Harry|   Howell|hho...|  Male|    91....|      | Bos...|   3/1...|186...|Web...|        |\n",
      "|           201...|  9|      Jose|   Foster|jfo...|  Male|    132...|      | Sou...|   3/2...|231...|Sof...|   1E+02|\n",
      "|           201...| 10|     Emily|   Ste...|est...|Female|    143...|357...| Nig...|   1/2...|272...|Hea...|        |\n",
      "|           201...| 11|     Susan|   Per...|spe...|Female|    180...|357...| Russia|         |210...|      |        |\n",
      "|           201...| 12|     Alice|    Berry|abe...|Female|    246...|491...|  China|   8/1...|229...|Qua...|        |\n",
      "|           201...| 13|    Justin|    Berry|jbe...|  Male|    157...|633...| Zambia|   8/1...|441...|Str...|        |\n",
      "|           201...| 14|     Kathy|   Rey...|kre...|Female|    81....|553...| Bos...|   6/2...|286...|Lib...|        |\n",
      "|           201...| 15|    Dor...|   Hudson|dhu...|Female|    8.5...|354...|  Japan|   12/...|157...|Nur...|  <sc...|\n",
      "|           201...| 16|     Bruce|   Willis|bwi...|  Male|    239...|357...| Brazil|         |239...|      |        |\n",
      "|           201...| 17|     Emily|   And...|ean...|Female|    29....|302...| Russia|   4/1...|116...|Foo...|        |\n",
      "|           201...| 18|    Ste...|   Wal...|swa...|  Male|    152...|543...| Ukr...|   1/1...|248...|Acc...|        |\n",
      "|           201...| 19|    Cla...|   Lawson|cla...|  Male|    107...|354...| Russia|         |177...|      |        |\n",
      "|           201...| 20|    Reb...|     Bell|rbe...|Female|    172...|      |  China|         |137...|      |        |\n",
      "+-----------------+---+----------+---------+------+------+----------+------+-------+---------+------+------+--------+\n",
      "only showing top 20 rows\n",
      "\n"
     ]
    }
   ],
   "source": [
    "df2.show(truncate=6)"
   ]
  },
  {
   "cell_type": "code",
   "execution_count": 21,
   "id": "f49b2077",
   "metadata": {},
   "outputs": [
    {
     "name": "stdout",
     "output_type": "stream",
     "text": [
      "root\n",
      " |-- registration_dttm: timestamp (nullable = true)\n",
      " |-- id: integer (nullable = true)\n",
      " |-- first_name: string (nullable = true)\n",
      " |-- last_name: string (nullable = true)\n",
      " |-- email: string (nullable = true)\n",
      " |-- gender: string (nullable = true)\n",
      " |-- ip_address: string (nullable = true)\n",
      " |-- cc: string (nullable = true)\n",
      " |-- country: string (nullable = true)\n",
      " |-- birthdate: string (nullable = true)\n",
      " |-- salary: double (nullable = true)\n",
      " |-- title: string (nullable = true)\n",
      " |-- comments: string (nullable = true)\n",
      "\n"
     ]
    }
   ],
   "source": [
    "df2.printSchema()"
   ]
  },
  {
   "cell_type": "code",
   "execution_count": 35,
   "id": "4c3eaef7",
   "metadata": {},
   "outputs": [
    {
     "name": "stdout",
     "output_type": "stream",
     "text": [
      "+-------------------+---+----------+---------+--------------------+------+---------------+-------------------+--------------------+----------+---------+--------------------+--------------------+\n",
      "|  registration_dttm| id|first_name|last_name|               email|gender|     ip_address|                 cc|             country| birthdate|   salary|               title|            comments|\n",
      "+-------------------+---+----------+---------+--------------------+------+---------------+-------------------+--------------------+----------+---------+--------------------+--------------------+\n",
      "|2016-02-03 13:25:29|  1|    Amanda|   Jordan|    ajordan0@com.com|Female|    1.197.201.2|   6759521864920116|           Indonesia|  3/8/1971| 49756.53|    Internal Auditor|               1E+02|\n",
      "|2016-02-03 22:34:03|  2|    Albert|  Freeman|     afreeman1@is.gd|  Male| 218.111.175.34|                   |              Canada| 1/16/1968|150280.17|       Accountant IV|                    |\n",
      "|2016-02-03 06:39:31|  3|    Evelyn|   Morgan|emorgan2@altervis...|Female|   7.161.136.94|   6767119071901597|              Russia|  2/1/1960|144972.51| Structural Engineer|                    |\n",
      "|2016-02-03 06:06:21|  4|    Denise|    Riley|    driley3@gmpg.org|Female|  140.35.109.83|   3576031598965625|               China|  4/8/1997| 90263.05|Senior Cost Accou...|                    |\n",
      "|2016-02-03 10:35:31|  5|    Carlos|    Burns|cburns4@miitbeian...|      | 169.113.235.40|   5602256255204850|        South Africa|          |     null|                    |                    |\n",
      "|2016-02-03 12:52:34|  6|   Kathryn|    White|  kwhite5@google.com|Female| 195.131.81.179|   3583136326049310|           Indonesia| 2/25/1983| 69227.11|   Account Executive|                    |\n",
      "|2016-02-03 14:03:08|  7|    Samuel|   Holmes|sholmes6@foxnews.com|  Male| 232.234.81.197|   3582641366974690|            Portugal|12/18/1987| 14247.62|Senior Financial ...|                    |\n",
      "|2016-02-03 12:17:06|  8|     Harry|   Howell| hhowell7@eepurl.com|  Male|   91.235.51.73|                   |Bosnia and Herzeg...|  3/1/1962|186469.43|    Web Developer IV|                    |\n",
      "|2016-02-03 09:22:53|  9|      Jose|   Foster|   jfoster8@yelp.com|  Male|   132.31.53.61|                   |         South Korea| 3/27/1992|231067.84|Software Test Eng...|               1E+02|\n",
      "|2016-02-03 23:59:47| 10|     Emily|  Stewart|estewart9@opensou...|Female| 143.28.251.245|   3574254110301671|             Nigeria| 1/28/1997| 27234.28|     Health Coach IV|                    |\n",
      "|2016-02-03 05:40:42| 11|     Susan|  Perkins| sperkinsa@patch.com|Female|    180.85.0.62|   3573823609854134|              Russia|          |210001.95|                    |                    |\n",
      "|2016-02-03 23:34:34| 12|     Alice|    Berry|aberryb@wikipedia...|Female| 246.225.12.189|   4917830851454417|               China| 8/12/1968| 22944.53|    Quality Engineer|                    |\n",
      "|2016-02-04 00:18:17| 13|    Justin|    Berry|jberryc@usatoday.com|  Male|   157.7.146.43|6331109912871813274|              Zambia| 8/15/1975| 44165.46|Structural Analys...|                    |\n",
      "|2016-02-04 03:16:52| 14|     Kathy| Reynolds|kreynoldsd@redcro...|Female|  81.254.172.13|   5537178462965976|Bosnia and Herzeg...| 6/27/1970|286592.99|           Librarian|                    |\n",
      "|2016-02-03 14:23:23| 15|   Dorothy|   Hudson|dhudsone@blogger.com|Female|       8.59.7.0|   3542586858224170|               Japan|12/20/1989|157099.71|  Nurse Practicioner|<script>alert('hi...|\n",
      "|2016-02-03 06:14:01| 16|     Bruce|   Willis|bwillisf@bluehost...|  Male|239.182.219.189|   3573030625927601|              Brazil|          |239100.65|                    |                    |\n",
      "|2016-02-03 06:27:45| 17|     Emily|  Andrews|eandrewsg@cornell...|Female| 29.231.180.172|     30271790537626|              Russia| 4/13/1990|116800.65|        Food Chemist|                    |\n",
      "|2016-02-03 22:14:24| 18|   Stephen|  Wallace|swallaceh@netvibe...|  Male|  152.49.213.62|   5433943468526428|             Ukraine| 1/15/1978|248877.99|Account Represent...|                    |\n",
      "|2016-02-03 17:15:54| 19|  Clarence|   Lawson|clawsoni@vkontakt...|  Male| 107.175.15.152|   3544052814080964|              Russia|          |177122.99|                    |                    |\n",
      "|2016-02-03 16:00:36| 20|   Rebecca|     Bell| rbellj@bandcamp.com|Female|172.215.104.127|                   |               China|          |137251.19|                    |                    |\n",
      "+-------------------+---+----------+---------+--------------------+------+---------------+-------------------+--------------------+----------+---------+--------------------+--------------------+\n",
      "only showing top 20 rows\n",
      "\n"
     ]
    }
   ],
   "source": [
    "from pyspark.sql.types import *\n",
    "\n",
    "schema = StructType().add(\"registration_dttm\", StringType())\\\n",
    "            .add(\"id\", IntegerType())\\\n",
    "            .add(\"first_name\", StringType())\\\n",
    "            .add(\"last_name\", StringType())\\\n",
    "            .add(\"email\", StringType())\\\n",
    "            .add(\"gender\", StringType())\\\n",
    "            .add(\"ip_address\", StringType())\\\n",
    "            .add(\"cc\", StringType())\\\n",
    "            .add(\"country\", StringType())\\\n",
    "            .add(\"birthdate\", StringType())\\\n",
    "            .add(\"salary\", DoubleType())\\\n",
    "            .add(\"title\", StringType())\\\n",
    "            .add(\"comments\", StringType())\n",
    "\n",
    "spark.read.parquet('userdata1.parquet', schema=schema).show()"
   ]
  },
  {
   "cell_type": "code",
   "execution_count": null,
   "id": "f9288abd",
   "metadata": {},
   "outputs": [],
   "source": []
  }
 ],
 "metadata": {
  "kernelspec": {
   "display_name": "Python 3 (ipykernel)",
   "language": "python",
   "name": "python3"
  },
  "language_info": {
   "codemirror_mode": {
    "name": "ipython",
    "version": 3
   },
   "file_extension": ".py",
   "mimetype": "text/x-python",
   "name": "python",
   "nbconvert_exporter": "python",
   "pygments_lexer": "ipython3",
   "version": "3.9.16"
  }
 },
 "nbformat": 4,
 "nbformat_minor": 5
}
