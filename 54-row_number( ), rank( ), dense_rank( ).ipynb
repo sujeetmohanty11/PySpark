{
 "cells": [
  {
   "cell_type": "code",
   "execution_count": 3,
   "id": "56b877ab",
   "metadata": {},
   "outputs": [],
   "source": [
    "from pyspark.sql import SparkSession\n",
    "spark = SparkSession.builder.appName(\"practise54\").getOrCreate()"
   ]
  },
  {
   "cell_type": "code",
   "execution_count": 5,
   "id": "ade10f2c",
   "metadata": {},
   "outputs": [
    {
     "name": "stdout",
     "output_type": "stream",
     "text": [
      "+----------+----+------+------+---+------+----+\n",
      "|total_bill|tip |sex   |smoker|day|time  |size|\n",
      "+----------+----+------+------+---+------+----+\n",
      "|16.99     |1.01|Female|No    |Sun|Dinner|2   |\n",
      "|10.34     |1.66|Male  |No    |Sun|Dinner|3   |\n",
      "|21.01     |3.5 |Male  |No    |Sun|Dinner|3   |\n",
      "|23.68     |3.31|Male  |No    |Sun|Dinner|2   |\n",
      "|24.59     |3.61|Female|No    |Sun|Dinner|4   |\n",
      "+----------+----+------+------+---+------+----+\n",
      "only showing top 5 rows\n",
      "\n",
      "root\n",
      " |-- total_bill: double (nullable = true)\n",
      " |-- tip: double (nullable = true)\n",
      " |-- sex: string (nullable = true)\n",
      " |-- smoker: string (nullable = true)\n",
      " |-- day: string (nullable = true)\n",
      " |-- time: string (nullable = true)\n",
      " |-- size: integer (nullable = true)\n",
      "\n"
     ]
    }
   ],
   "source": [
    "df = spark.read.csv('tips.csv', header=True, inferSchema=True)\n",
    "df.show(truncate=False, n=5)\n",
    "df.printSchema()"
   ]
  },
  {
   "cell_type": "code",
   "execution_count": 11,
   "id": "1e6cbcb0",
   "metadata": {},
   "outputs": [
    {
     "name": "stdout",
     "output_type": "stream",
     "text": [
      "+----------+----+------+------+---+------+----+\n",
      "|total_bill| tip|   sex|smoker|day|  time|size|\n",
      "+----------+----+------+------+---+------+----+\n",
      "|      5.75| 1.0|Female|   Yes|Fri|Dinner|   2|\n",
      "|     16.32| 4.3|Female|   Yes|Fri|Dinner|   2|\n",
      "|     28.97| 3.0|  Male|   Yes|Fri|Dinner|   2|\n",
      "|     40.17|4.73|  Male|   Yes|Fri|Dinner|   4|\n",
      "|     27.28| 4.0|  Male|   Yes|Fri|Dinner|   2|\n",
      "|     12.03| 1.5|  Male|   Yes|Fri|Dinner|   2|\n",
      "|     21.01| 3.0|  Male|   Yes|Fri|Dinner|   2|\n",
      "|     22.49| 3.5|  Male|    No|Fri|Dinner|   2|\n",
      "|     11.35| 2.5|Female|   Yes|Fri|Dinner|   2|\n",
      "|     15.38| 3.0|Female|   Yes|Fri|Dinner|   2|\n",
      "|     12.16| 2.2|  Male|   Yes|Fri| Lunch|   2|\n",
      "|     13.42|3.48|Female|   Yes|Fri| Lunch|   2|\n",
      "|      8.58|1.92|  Male|   Yes|Fri| Lunch|   1|\n",
      "|     15.98| 3.0|Female|    No|Fri| Lunch|   3|\n",
      "|     13.42|1.58|  Male|   Yes|Fri| Lunch|   2|\n",
      "|     16.27| 2.5|Female|   Yes|Fri| Lunch|   2|\n",
      "|     10.09| 2.0|Female|   Yes|Fri| Lunch|   2|\n",
      "|     12.46| 1.5|  Male|    No|Fri|Dinner|   2|\n",
      "|     22.75|3.25|Female|    No|Fri|Dinner|   2|\n",
      "|     20.29|2.75|Female|    No|Sat|Dinner|   2|\n",
      "+----------+----+------+------+---+------+----+\n",
      "only showing top 20 rows\n",
      "\n"
     ]
    }
   ],
   "source": [
    "df.sort('day').show()"
   ]
  },
  {
   "cell_type": "code",
   "execution_count": 25,
   "id": "3574c6a7",
   "metadata": {},
   "outputs": [
    {
     "name": "stdout",
     "output_type": "stream",
     "text": [
      "+----------+----+------+------+---+------+----+---------+\n",
      "|total_bill| tip|   sex|smoker|day|  time|size|rowNumber|\n",
      "+----------+----+------+------+---+------+----+---------+\n",
      "|      5.75| 1.0|Female|   Yes|Fri|Dinner|   2|        1|\n",
      "|      8.58|1.92|  Male|   Yes|Fri| Lunch|   1|        2|\n",
      "|     10.09| 2.0|Female|   Yes|Fri| Lunch|   2|        3|\n",
      "|     11.35| 2.5|Female|   Yes|Fri|Dinner|   2|        4|\n",
      "|     12.03| 1.5|  Male|   Yes|Fri|Dinner|   2|        5|\n",
      "|     12.16| 2.2|  Male|   Yes|Fri| Lunch|   2|        6|\n",
      "|     12.46| 1.5|  Male|    No|Fri|Dinner|   2|        7|\n",
      "|     13.42|3.48|Female|   Yes|Fri| Lunch|   2|        8|\n",
      "|     13.42|1.58|  Male|   Yes|Fri| Lunch|   2|        9|\n",
      "|     15.38| 3.0|Female|   Yes|Fri|Dinner|   2|       10|\n",
      "|     15.98| 3.0|Female|    No|Fri| Lunch|   3|       11|\n",
      "|     16.27| 2.5|Female|   Yes|Fri| Lunch|   2|       12|\n",
      "|     16.32| 4.3|Female|   Yes|Fri|Dinner|   2|       13|\n",
      "|     21.01| 3.0|  Male|   Yes|Fri|Dinner|   2|       14|\n",
      "|     22.49| 3.5|  Male|    No|Fri|Dinner|   2|       15|\n",
      "|     22.75|3.25|Female|    No|Fri|Dinner|   2|       16|\n",
      "|     27.28| 4.0|  Male|   Yes|Fri|Dinner|   2|       17|\n",
      "|     28.97| 3.0|  Male|   Yes|Fri|Dinner|   2|       18|\n",
      "|     40.17|4.73|  Male|   Yes|Fri|Dinner|   4|       19|\n",
      "|      3.07| 1.0|Female|   Yes|Sat|Dinner|   1|        1|\n",
      "|      7.25| 1.0|Female|    No|Sat|Dinner|   1|        2|\n",
      "|      7.74|1.44|  Male|   Yes|Sat|Dinner|   2|        3|\n",
      "|      9.55|1.45|  Male|    No|Sat|Dinner|   2|        4|\n",
      "|     10.07|1.25|  Male|    No|Sat|Dinner|   2|        5|\n",
      "|     10.51|1.25|  Male|    No|Sat|Dinner|   2|        6|\n",
      "|     10.59|1.61|Female|   Yes|Sat|Dinner|   2|        7|\n",
      "|     10.63| 2.0|Female|   Yes|Sat|Dinner|   2|        8|\n",
      "|     10.77|1.47|  Male|    No|Sat|Dinner|   2|        9|\n",
      "|     11.02|1.98|  Male|   Yes|Sat|Dinner|   2|       10|\n",
      "|     11.24|1.76|  Male|   Yes|Sat|Dinner|   2|       11|\n",
      "|     11.59| 1.5|  Male|   Yes|Sat|Dinner|   2|       12|\n",
      "|     11.61|3.39|  Male|    No|Sat|Dinner|   2|       13|\n",
      "|     12.02|1.97|  Male|    No|Sat|Dinner|   2|       14|\n",
      "|      12.6| 1.0|  Male|   Yes|Sat|Dinner|   2|       15|\n",
      "|     12.69| 2.0|  Male|    No|Sat|Dinner|   2|       16|\n",
      "|     12.76|2.23|Female|   Yes|Sat|Dinner|   2|       17|\n",
      "|      12.9| 1.1|Female|   Yes|Sat|Dinner|   2|       18|\n",
      "|     13.27| 2.5|Female|   Yes|Sat|Dinner|   2|       19|\n",
      "|     13.28|2.72|  Male|    No|Sat|Dinner|   2|       20|\n",
      "|     13.37| 2.0|  Male|    No|Sat|Dinner|   2|       21|\n",
      "|     13.81| 2.0|  Male|   Yes|Sat|Dinner|   2|       22|\n",
      "|      14.0| 3.0|  Male|    No|Sat|Dinner|   2|       23|\n",
      "|     14.31| 4.0|Female|   Yes|Sat|Dinner|   2|       24|\n",
      "|     14.73| 2.2|Female|    No|Sat|Dinner|   2|       25|\n",
      "|     15.01|2.09|  Male|   Yes|Sat|Dinner|   2|       26|\n",
      "|     15.06| 3.0|Female|    No|Sat|Dinner|   2|       27|\n",
      "|     15.36|1.64|  Male|   Yes|Sat|Dinner|   2|       28|\n",
      "|     15.53| 3.0|  Male|   Yes|Sat|Dinner|   2|       29|\n",
      "|     15.69| 3.0|  Male|   Yes|Sat|Dinner|   3|       30|\n",
      "|     15.77|2.23|Female|    No|Sat|Dinner|   2|       31|\n",
      "+----------+----+------+------+---+------+----+---------+\n",
      "only showing top 50 rows\n",
      "\n"
     ]
    }
   ],
   "source": [
    "from pyspark.sql.functions import row_number, rank, dense_rank\n",
    "from pyspark.sql.window import Window\n",
    "window = Window.partitionBy('day').orderBy('total_bill')\n",
    "\n",
    "df.withColumn('rowNumber', row_number().over(window)).show(n=50)\n",
    "\n",
    "# it will sort based on dep first then it will sort based on total_bill"
   ]
  },
  {
   "cell_type": "code",
   "execution_count": 27,
   "id": "6851c4d0",
   "metadata": {},
   "outputs": [
    {
     "name": "stdout",
     "output_type": "stream",
     "text": [
      "+----------+----+------+------+---+------+----+---------+----+---------+\n",
      "|total_bill| tip|   sex|smoker|day|  time|size|rowNumber|rank|denserank|\n",
      "+----------+----+------+------+---+------+----+---------+----+---------+\n",
      "|      5.75| 1.0|Female|   Yes|Fri|Dinner|   2|        1|   1|        1|\n",
      "|      8.58|1.92|  Male|   Yes|Fri| Lunch|   1|        2|   2|        2|\n",
      "|     10.09| 2.0|Female|   Yes|Fri| Lunch|   2|        3|   3|        3|\n",
      "|     11.35| 2.5|Female|   Yes|Fri|Dinner|   2|        4|   4|        4|\n",
      "|     12.03| 1.5|  Male|   Yes|Fri|Dinner|   2|        5|   5|        5|\n",
      "|     12.16| 2.2|  Male|   Yes|Fri| Lunch|   2|        6|   6|        6|\n",
      "|     12.46| 1.5|  Male|    No|Fri|Dinner|   2|        7|   7|        7|\n",
      "|     13.42|3.48|Female|   Yes|Fri| Lunch|   2|        8|   8|        8|\n",
      "|     13.42|1.58|  Male|   Yes|Fri| Lunch|   2|        9|   8|        8|\n",
      "|     15.38| 3.0|Female|   Yes|Fri|Dinner|   2|       10|  10|        9|\n",
      "|     15.98| 3.0|Female|    No|Fri| Lunch|   3|       11|  11|       10|\n",
      "|     16.27| 2.5|Female|   Yes|Fri| Lunch|   2|       12|  12|       11|\n",
      "|     16.32| 4.3|Female|   Yes|Fri|Dinner|   2|       13|  13|       12|\n",
      "|     21.01| 3.0|  Male|   Yes|Fri|Dinner|   2|       14|  14|       13|\n",
      "|     22.49| 3.5|  Male|    No|Fri|Dinner|   2|       15|  15|       14|\n",
      "|     22.75|3.25|Female|    No|Fri|Dinner|   2|       16|  16|       15|\n",
      "|     27.28| 4.0|  Male|   Yes|Fri|Dinner|   2|       17|  17|       16|\n",
      "|     28.97| 3.0|  Male|   Yes|Fri|Dinner|   2|       18|  18|       17|\n",
      "|     40.17|4.73|  Male|   Yes|Fri|Dinner|   4|       19|  19|       18|\n",
      "|      3.07| 1.0|Female|   Yes|Sat|Dinner|   1|        1|   1|        1|\n",
      "|      7.25| 1.0|Female|    No|Sat|Dinner|   1|        2|   2|        2|\n",
      "|      7.74|1.44|  Male|   Yes|Sat|Dinner|   2|        3|   3|        3|\n",
      "|      9.55|1.45|  Male|    No|Sat|Dinner|   2|        4|   4|        4|\n",
      "|     10.07|1.25|  Male|    No|Sat|Dinner|   2|        5|   5|        5|\n",
      "|     10.51|1.25|  Male|    No|Sat|Dinner|   2|        6|   6|        6|\n",
      "|     10.59|1.61|Female|   Yes|Sat|Dinner|   2|        7|   7|        7|\n",
      "|     10.63| 2.0|Female|   Yes|Sat|Dinner|   2|        8|   8|        8|\n",
      "|     10.77|1.47|  Male|    No|Sat|Dinner|   2|        9|   9|        9|\n",
      "|     11.02|1.98|  Male|   Yes|Sat|Dinner|   2|       10|  10|       10|\n",
      "|     11.24|1.76|  Male|   Yes|Sat|Dinner|   2|       11|  11|       11|\n",
      "|     11.59| 1.5|  Male|   Yes|Sat|Dinner|   2|       12|  12|       12|\n",
      "|     11.61|3.39|  Male|    No|Sat|Dinner|   2|       13|  13|       13|\n",
      "|     12.02|1.97|  Male|    No|Sat|Dinner|   2|       14|  14|       14|\n",
      "|      12.6| 1.0|  Male|   Yes|Sat|Dinner|   2|       15|  15|       15|\n",
      "|     12.69| 2.0|  Male|    No|Sat|Dinner|   2|       16|  16|       16|\n",
      "|     12.76|2.23|Female|   Yes|Sat|Dinner|   2|       17|  17|       17|\n",
      "|      12.9| 1.1|Female|   Yes|Sat|Dinner|   2|       18|  18|       18|\n",
      "|     13.27| 2.5|Female|   Yes|Sat|Dinner|   2|       19|  19|       19|\n",
      "|     13.28|2.72|  Male|    No|Sat|Dinner|   2|       20|  20|       20|\n",
      "|     13.37| 2.0|  Male|    No|Sat|Dinner|   2|       21|  21|       21|\n",
      "|     13.81| 2.0|  Male|   Yes|Sat|Dinner|   2|       22|  22|       22|\n",
      "|      14.0| 3.0|  Male|    No|Sat|Dinner|   2|       23|  23|       23|\n",
      "|     14.31| 4.0|Female|   Yes|Sat|Dinner|   2|       24|  24|       24|\n",
      "|     14.73| 2.2|Female|    No|Sat|Dinner|   2|       25|  25|       25|\n",
      "|     15.01|2.09|  Male|   Yes|Sat|Dinner|   2|       26|  26|       26|\n",
      "|     15.06| 3.0|Female|    No|Sat|Dinner|   2|       27|  27|       27|\n",
      "|     15.36|1.64|  Male|   Yes|Sat|Dinner|   2|       28|  28|       28|\n",
      "|     15.53| 3.0|  Male|   Yes|Sat|Dinner|   2|       29|  29|       29|\n",
      "|     15.69| 3.0|  Male|   Yes|Sat|Dinner|   3|       30|  30|       30|\n",
      "|     15.77|2.23|Female|    No|Sat|Dinner|   2|       31|  31|       31|\n",
      "+----------+----+------+------+---+------+----+---------+----+---------+\n",
      "only showing top 50 rows\n",
      "\n"
     ]
    }
   ],
   "source": [
    "df.withColumn('rowNumber', row_number().over(window)).\\\n",
    "withColumn('rank', rank().over(window))\\\n",
    ".withColumn('denserank', dense_rank().over(window))\\\n",
    ".show(n=50)"
   ]
  },
  {
   "cell_type": "code",
   "execution_count": null,
   "id": "45140f9c",
   "metadata": {},
   "outputs": [],
   "source": []
  },
  {
   "cell_type": "code",
   "execution_count": null,
   "id": "625a08d0",
   "metadata": {},
   "outputs": [],
   "source": []
  }
 ],
 "metadata": {
  "kernelspec": {
   "display_name": "Python 3 (ipykernel)",
   "language": "python",
   "name": "python3"
  },
  "language_info": {
   "codemirror_mode": {
    "name": "ipython",
    "version": 3
   },
   "file_extension": ".py",
   "mimetype": "text/x-python",
   "name": "python",
   "nbconvert_exporter": "python",
   "pygments_lexer": "ipython3",
   "version": "3.9.16"
  }
 },
 "nbformat": 4,
 "nbformat_minor": 5
}
