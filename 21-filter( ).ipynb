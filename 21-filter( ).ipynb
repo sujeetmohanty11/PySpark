{
 "cells": [
  {
   "cell_type": "code",
   "execution_count": 1,
   "id": "ecdfbfa8",
   "metadata": {},
   "outputs": [
    {
     "name": "stderr",
     "output_type": "stream",
     "text": [
      "Setting default log level to \"WARN\".\n",
      "To adjust logging level use sc.setLogLevel(newLevel). For SparkR, use setLogLevel(newLevel).\n"
     ]
    },
    {
     "name": "stdout",
     "output_type": "stream",
     "text": [
      "23/02/17 16:15:40 WARN NativeCodeLoader: Unable to load native-hadoop library for your platform... using builtin-java classes where applicable\n"
     ]
    }
   ],
   "source": [
    "from pyspark.sql import SparkSession\n",
    "spark = SparkSession.builder.appName('practise20').getOrCreate()"
   ]
  },
  {
   "cell_type": "code",
   "execution_count": 21,
   "id": "a41722c3",
   "metadata": {},
   "outputs": [
    {
     "name": "stdout",
     "output_type": "stream",
     "text": [
      "+---+------+------+------+\n",
      "| id|  name|gender|salary|\n",
      "+---+------+------+------+\n",
      "|  1|sujeet|  male| 37000|\n",
      "|  2| ajeet|  male|  2729|\n",
      "|  3| akash|female|  7000|\n",
      "+---+------+------+------+\n",
      "\n",
      "root\n",
      " |-- id: long (nullable = true)\n",
      " |-- name: string (nullable = true)\n",
      " |-- gender: string (nullable = true)\n",
      " |-- salary: long (nullable = true)\n",
      "\n"
     ]
    }
   ],
   "source": [
    "data = [(1,'sujeet','male',37000),(2,'ajeet','male',2729),(3,'akash','female',7000)]\n",
    "schema = ['id','name','gender','salary']\n",
    "\n",
    "df = spark.createDataFrame(data, schema)\n",
    "df.show()\n",
    "df.printSchema()"
   ]
  },
  {
   "cell_type": "code",
   "execution_count": 22,
   "id": "f99f6287",
   "metadata": {},
   "outputs": [
    {
     "name": "stdout",
     "output_type": "stream",
     "text": [
      "+---+------+------+------+\n",
      "| id|  name|gender|salary|\n",
      "+---+------+------+------+\n",
      "|  1|sujeet|  male| 37000|\n",
      "|  2| ajeet|  male|  2729|\n",
      "+---+------+------+------+\n",
      "\n"
     ]
    }
   ],
   "source": [
    "df.filter(df.gender == 'male').show()"
   ]
  },
  {
   "cell_type": "code",
   "execution_count": 23,
   "id": "e49663e1",
   "metadata": {},
   "outputs": [
    {
     "name": "stdout",
     "output_type": "stream",
     "text": [
      "+---+------+------+------+\n",
      "| id|  name|gender|salary|\n",
      "+---+------+------+------+\n",
      "|  1|sujeet|  male| 37000|\n",
      "|  2| ajeet|  male|  2729|\n",
      "+---+------+------+------+\n",
      "\n"
     ]
    }
   ],
   "source": [
    "df.filter(\"gender = 'male'\").show()"
   ]
  },
  {
   "cell_type": "code",
   "execution_count": null,
   "id": "8255021b",
   "metadata": {},
   "outputs": [],
   "source": []
  },
  {
   "cell_type": "code",
   "execution_count": null,
   "id": "1f5b99d7",
   "metadata": {},
   "outputs": [],
   "source": []
  },
  {
   "cell_type": "code",
   "execution_count": 24,
   "id": "d520ed46",
   "metadata": {},
   "outputs": [
    {
     "name": "stdout",
     "output_type": "stream",
     "text": [
      "+---+------+------+------+\n",
      "| id|  name|gender|salary|\n",
      "+---+------+------+------+\n",
      "|  1|sujeet|  male| 37000|\n",
      "+---+------+------+------+\n",
      "\n"
     ]
    }
   ],
   "source": [
    "df.filter((df.gender == 'male') & (df.salary > 3000)).show()"
   ]
  },
  {
   "cell_type": "code",
   "execution_count": null,
   "id": "a9e361f4",
   "metadata": {},
   "outputs": [],
   "source": []
  },
  {
   "cell_type": "code",
   "execution_count": null,
   "id": "a56e471b",
   "metadata": {},
   "outputs": [],
   "source": []
  },
  {
   "cell_type": "code",
   "execution_count": 25,
   "id": "300d0c1c",
   "metadata": {},
   "outputs": [
    {
     "name": "stdout",
     "output_type": "stream",
     "text": [
      "+----------+----+------+------+---+------+----+\n",
      "|total_bill|tip |sex   |smoker|day|time  |size|\n",
      "+----------+----+------+------+---+------+----+\n",
      "|16.99     |1.01|Female|No    |Sun|Dinner|2   |\n",
      "|10.34     |1.66|Male  |No    |Sun|Dinner|3   |\n",
      "|21.01     |3.5 |Male  |No    |Sun|Dinner|3   |\n",
      "|23.68     |3.31|Male  |No    |Sun|Dinner|2   |\n",
      "|24.59     |3.61|Female|No    |Sun|Dinner|4   |\n",
      "|25.29     |4.71|Male  |No    |Sun|Dinner|4   |\n",
      "|8.77      |2.0 |Male  |No    |Sun|Dinner|2   |\n",
      "|26.88     |3.12|Male  |No    |Sun|Dinner|4   |\n",
      "|15.04     |1.96|Male  |No    |Sun|Dinner|2   |\n",
      "|14.78     |3.23|Male  |No    |Sun|Dinner|2   |\n",
      "|10.27     |1.71|Male  |No    |Sun|Dinner|2   |\n",
      "|35.26     |5.0 |Female|No    |Sun|Dinner|4   |\n",
      "|15.42     |1.57|Male  |No    |Sun|Dinner|2   |\n",
      "|18.43     |3.0 |Male  |No    |Sun|Dinner|4   |\n",
      "|14.83     |3.02|Female|No    |Sun|Dinner|2   |\n",
      "|21.58     |3.92|Male  |No    |Sun|Dinner|2   |\n",
      "|10.33     |1.67|Female|No    |Sun|Dinner|3   |\n",
      "|16.29     |3.71|Male  |No    |Sun|Dinner|3   |\n",
      "|16.97     |3.5 |Female|No    |Sun|Dinner|3   |\n",
      "|20.65     |3.35|Male  |No    |Sat|Dinner|3   |\n",
      "+----------+----+------+------+---+------+----+\n",
      "only showing top 20 rows\n",
      "\n",
      "root\n",
      " |-- total_bill: double (nullable = true)\n",
      " |-- tip: double (nullable = true)\n",
      " |-- sex: string (nullable = true)\n",
      " |-- smoker: string (nullable = true)\n",
      " |-- day: string (nullable = true)\n",
      " |-- time: string (nullable = true)\n",
      " |-- size: integer (nullable = true)\n",
      "\n"
     ]
    }
   ],
   "source": [
    "df = spark.read.csv('tips.csv', header=True, inferSchema=True)\n",
    "df.show(truncate=False)\n",
    "df.printSchema()"
   ]
  },
  {
   "cell_type": "code",
   "execution_count": null,
   "id": "a8e86aeb",
   "metadata": {},
   "outputs": [],
   "source": []
  },
  {
   "cell_type": "code",
   "execution_count": 26,
   "id": "13a4d864",
   "metadata": {},
   "outputs": [
    {
     "name": "stdout",
     "output_type": "stream",
     "text": [
      "+----------+----+----+------+---+------+----+\n",
      "|total_bill| tip| sex|smoker|day|  time|size|\n",
      "+----------+----+----+------+---+------+----+\n",
      "|     10.34|1.66|Male|    No|Sun|Dinner|   3|\n",
      "|     21.01| 3.5|Male|    No|Sun|Dinner|   3|\n",
      "|     23.68|3.31|Male|    No|Sun|Dinner|   2|\n",
      "|     25.29|4.71|Male|    No|Sun|Dinner|   4|\n",
      "|      8.77| 2.0|Male|    No|Sun|Dinner|   2|\n",
      "+----------+----+----+------+---+------+----+\n",
      "only showing top 5 rows\n",
      "\n"
     ]
    }
   ],
   "source": [
    "df.filter(df.sex =='Male').show(5)"
   ]
  },
  {
   "cell_type": "code",
   "execution_count": 38,
   "id": "d1f6acee",
   "metadata": {},
   "outputs": [
    {
     "name": "stdout",
     "output_type": "stream",
     "text": [
      "+----------+----+----+------+---+------+----+\n",
      "|total_bill| tip| sex|smoker|day|  time|size|\n",
      "+----------+----+----+------+---+------+----+\n",
      "|     18.43| 3.0|Male|    No|Sun|Dinner|   4|\n",
      "|     17.81|2.34|Male|    No|Sat|Dinner|   4|\n",
      "|     18.35| 2.5|Male|    No|Sat|Dinner|   4|\n",
      "|     24.55| 2.0|Male|    No|Sun|Dinner|   4|\n",
      "|     19.77| 2.0|Male|    No|Sun|Dinner|   4|\n",
      "|     16.49| 2.0|Male|    No|Sun|Dinner|   4|\n",
      "|     20.45| 3.0|Male|    No|Sat|Dinner|   4|\n",
      "+----------+----+----+------+---+------+----+\n",
      "\n"
     ]
    }
   ],
   "source": [
    "df.filter((df.tip >= 1) & (df.sex == 'Male') & \\\n",
    "          (df.size > 3) & (df.smoker == 'No')& \\\n",
    "          (df.tip<=3)\n",
    "         ).show()"
   ]
  },
  {
   "cell_type": "code",
   "execution_count": null,
   "id": "21d6bb85",
   "metadata": {},
   "outputs": [],
   "source": []
  }
 ],
 "metadata": {
  "kernelspec": {
   "display_name": "Python 3 (ipykernel)",
   "language": "python",
   "name": "python3"
  },
  "language_info": {
   "codemirror_mode": {
    "name": "ipython",
    "version": 3
   },
   "file_extension": ".py",
   "mimetype": "text/x-python",
   "name": "python",
   "nbconvert_exporter": "python",
   "pygments_lexer": "ipython3",
   "version": "3.9.16"
  }
 },
 "nbformat": 4,
 "nbformat_minor": 5
}
