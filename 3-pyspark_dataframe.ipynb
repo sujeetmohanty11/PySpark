{
 "cells": [
  {
   "cell_type": "markdown",
   "id": "ee1ca232",
   "metadata": {},
   "source": [
    "# Notebook Content\n",
    "* Dropping Columns\n",
    "* Dropping Rows\n",
    "* Various Parameters in Dropping Functionality\n",
    "* Handling Missing Values by Mean, Median, Mode"
   ]
  },
  {
   "cell_type": "code",
   "execution_count": 1,
   "id": "f229f5fa",
   "metadata": {},
   "outputs": [
    {
     "name": "stdout",
     "output_type": "stream",
     "text": [
      "23/02/15 01:19:12 WARN Utils: Your hostname, Sujeets-MacBook-Air.local resolves to a loopback address: 127.0.0.1; using 192.168.29.122 instead (on interface en0)\n",
      "23/02/15 01:19:12 WARN Utils: Set SPARK_LOCAL_IP if you need to bind to another address\n"
     ]
    },
    {
     "name": "stderr",
     "output_type": "stream",
     "text": [
      "Setting default log level to \"WARN\".\n",
      "To adjust logging level use sc.setLogLevel(newLevel). For SparkR, use setLogLevel(newLevel).\n"
     ]
    },
    {
     "name": "stdout",
     "output_type": "stream",
     "text": [
      "23/02/15 01:19:12 WARN NativeCodeLoader: Unable to load native-hadoop library for your platform... using builtin-java classes where applicable\n",
      "23/02/15 01:19:13 WARN Utils: Service 'SparkUI' could not bind on port 4040. Attempting port 4041.\n"
     ]
    }
   ],
   "source": [
    "from pyspark.sql import SparkSession\n",
    "spark = SparkSession.builder.appName('Practise').getOrCreate()"
   ]
  },
  {
   "cell_type": "code",
   "execution_count": 7,
   "id": "9c13891d",
   "metadata": {},
   "outputs": [],
   "source": [
    "df_pyspark = spark.read.csv('test3.csv', header=True, inferSchema=True)"
   ]
  },
  {
   "cell_type": "code",
   "execution_count": 8,
   "id": "ddbc74a6",
   "metadata": {},
   "outputs": [
    {
     "name": "stdout",
     "output_type": "stream",
     "text": [
      "+-------+----+----------+------+\n",
      "|   Name| Age|Experience|Salary|\n",
      "+-------+----+----------+------+\n",
      "| Sujeet|  22|        10| 35000|\n",
      "|  Ajeet|  18|         8| 26000|\n",
      "|  Akash|  14|         4| 20000|\n",
      "|  Manoj|  33|         3| 20000|\n",
      "|Manisha|  37|         1| 15000|\n",
      "|  Chunu|null|         2| 18000|\n",
      "| Subham|null|      null| 20000|\n",
      "|   null|  34|        10| 40000|\n",
      "|   null|  36|      null|  null|\n",
      "+-------+----+----------+------+\n",
      "\n"
     ]
    }
   ],
   "source": [
    "df_pyspark.show()"
   ]
  },
  {
   "cell_type": "code",
   "execution_count": 14,
   "id": "48d846b8",
   "metadata": {},
   "outputs": [
    {
     "name": "stdout",
     "output_type": "stream",
     "text": [
      "+----+----------+------+\n",
      "| Age|Experience|Salary|\n",
      "+----+----------+------+\n",
      "|  22|        10| 35000|\n",
      "|  18|         8| 26000|\n",
      "|  14|         4| 20000|\n",
      "|  33|         3| 20000|\n",
      "|  37|         1| 15000|\n",
      "|null|         2| 18000|\n",
      "|null|      null| 20000|\n",
      "|  34|        10| 40000|\n",
      "|  36|      null|  null|\n",
      "+----+----------+------+\n",
      "\n"
     ]
    }
   ],
   "source": [
    "df_pyspark.drop('Name').show()"
   ]
  },
  {
   "cell_type": "code",
   "execution_count": 15,
   "id": "62ef7ad4",
   "metadata": {},
   "outputs": [
    {
     "name": "stdout",
     "output_type": "stream",
     "text": [
      "+-------+----+----------+------+\n",
      "|   Name| Age|Experience|Salary|\n",
      "+-------+----+----------+------+\n",
      "| Sujeet|  22|        10| 35000|\n",
      "|  Ajeet|  18|         8| 26000|\n",
      "|  Akash|  14|         4| 20000|\n",
      "|  Manoj|  33|         3| 20000|\n",
      "|Manisha|  37|         1| 15000|\n",
      "|  Chunu|null|         2| 18000|\n",
      "| Subham|null|      null| 20000|\n",
      "|   null|  34|        10| 40000|\n",
      "|   null|  36|      null|  null|\n",
      "+-------+----+----------+------+\n",
      "\n"
     ]
    }
   ],
   "source": [
    "df_pyspark.show()"
   ]
  },
  {
   "cell_type": "code",
   "execution_count": 17,
   "id": "7a72e717",
   "metadata": {},
   "outputs": [
    {
     "name": "stdout",
     "output_type": "stream",
     "text": [
      "+-------+---+----------+------+\n",
      "|   Name|Age|Experience|Salary|\n",
      "+-------+---+----------+------+\n",
      "| Sujeet| 22|        10| 35000|\n",
      "|  Ajeet| 18|         8| 26000|\n",
      "|  Akash| 14|         4| 20000|\n",
      "|  Manoj| 33|         3| 20000|\n",
      "|Manisha| 37|         1| 15000|\n",
      "+-------+---+----------+------+\n",
      "\n"
     ]
    }
   ],
   "source": [
    "#dropping null values\n",
    "df_pyspark.dropna().show()"
   ]
  },
  {
   "cell_type": "code",
   "execution_count": 19,
   "id": "1f59ba36",
   "metadata": {},
   "outputs": [
    {
     "name": "stdout",
     "output_type": "stream",
     "text": [
      "+-------+----+----------+------+\n",
      "|   Name| Age|Experience|Salary|\n",
      "+-------+----+----------+------+\n",
      "| Sujeet|  22|        10| 35000|\n",
      "|  Ajeet|  18|         8| 26000|\n",
      "|  Akash|  14|         4| 20000|\n",
      "|  Manoj|  33|         3| 20000|\n",
      "|Manisha|  37|         1| 15000|\n",
      "|  Chunu|null|         2| 18000|\n",
      "| Subham|null|      null| 20000|\n",
      "|   null|  34|        10| 40000|\n",
      "|   null|  36|      null|  null|\n",
      "+-------+----+----------+------+\n",
      "\n"
     ]
    }
   ],
   "source": [
    "df_pyspark.dropna(how='all').show()\n",
    "#all tell , it will drop row when all the values in row are null"
   ]
  },
  {
   "cell_type": "code",
   "execution_count": 24,
   "id": "884a6001",
   "metadata": {},
   "outputs": [
    {
     "name": "stdout",
     "output_type": "stream",
     "text": [
      "+-------+----+----------+------+\n",
      "|   Name| Age|Experience|Salary|\n",
      "+-------+----+----------+------+\n",
      "| Sujeet|  22|        10| 35000|\n",
      "|  Ajeet|  18|         8| 26000|\n",
      "|  Akash|  14|         4| 20000|\n",
      "|  Manoj|  33|         3| 20000|\n",
      "|Manisha|  37|         1| 15000|\n",
      "|  Chunu|null|         2| 18000|\n",
      "| Subham|null|      null| 20000|\n",
      "|   null|  34|        10| 40000|\n",
      "+-------+----+----------+------+\n",
      "\n"
     ]
    }
   ],
   "source": [
    "df_pyspark.dropna(thresh=2).show()\n",
    "# thresh tells - atlest 2 not null values should be present"
   ]
  },
  {
   "cell_type": "code",
   "execution_count": 25,
   "id": "dfda021a",
   "metadata": {},
   "outputs": [
    {
     "name": "stdout",
     "output_type": "stream",
     "text": [
      "+-------+----+----------+------+\n",
      "|   Name| Age|Experience|Salary|\n",
      "+-------+----+----------+------+\n",
      "| Sujeet|  22|        10| 35000|\n",
      "|  Ajeet|  18|         8| 26000|\n",
      "|  Akash|  14|         4| 20000|\n",
      "|  Manoj|  33|         3| 20000|\n",
      "|Manisha|  37|         1| 15000|\n",
      "|  Chunu|null|         2| 18000|\n",
      "|   null|  34|        10| 40000|\n",
      "+-------+----+----------+------+\n",
      "\n"
     ]
    }
   ],
   "source": [
    "df_pyspark.dropna(how='any', subset=['Experience']).show()"
   ]
  },
  {
   "cell_type": "code",
   "execution_count": 26,
   "id": "f4f7c6ad",
   "metadata": {},
   "outputs": [
    {
     "name": "stdout",
     "output_type": "stream",
     "text": [
      "+-------+---+----------+------+\n",
      "|   Name|Age|Experience|Salary|\n",
      "+-------+---+----------+------+\n",
      "| Sujeet| 22|        10| 35000|\n",
      "|  Ajeet| 18|         8| 26000|\n",
      "|  Akash| 14|         4| 20000|\n",
      "|  Manoj| 33|         3| 20000|\n",
      "|Manisha| 37|         1| 15000|\n",
      "|   null| 34|        10| 40000|\n",
      "|   null| 36|      null|  null|\n",
      "+-------+---+----------+------+\n",
      "\n"
     ]
    }
   ],
   "source": [
    "df_pyspark.dropna(how='any', subset=['Age']).show()"
   ]
  },
  {
   "cell_type": "code",
   "execution_count": null,
   "id": "4eb41d57",
   "metadata": {},
   "outputs": [],
   "source": []
  },
  {
   "cell_type": "code",
   "execution_count": 27,
   "id": "53f64069",
   "metadata": {},
   "outputs": [],
   "source": [
    "# Filling Missing Values"
   ]
  },
  {
   "cell_type": "code",
   "execution_count": 38,
   "id": "688a35c4",
   "metadata": {},
   "outputs": [
    {
     "name": "stdout",
     "output_type": "stream",
     "text": [
      "+-------+----------+----------+------+\n",
      "|   Name|       Age|Experience|Salary|\n",
      "+-------+----------+----------+------+\n",
      "| Sujeet|        22|        10| 35000|\n",
      "|  Ajeet|        18|         8| 26000|\n",
      "|  Akash|        14|         4| 20000|\n",
      "|  Manoj|        33|         3| 20000|\n",
      "|Manisha|        37|         1| 15000|\n",
      "|  Chunu|1001122121|         2| 18000|\n",
      "| Subham|1001122121|1001122121| 20000|\n",
      "|   null|        34|        10| 40000|\n",
      "|   null|        36|1001122121|  null|\n",
      "+-------+----------+----------+------+\n",
      "\n"
     ]
    }
   ],
   "source": [
    "df_pyspark.fillna(value=1001122121, subset=['Experience','Age']).show()"
   ]
  },
  {
   "cell_type": "code",
   "execution_count": null,
   "id": "78b7e8e0",
   "metadata": {},
   "outputs": [],
   "source": []
  },
  {
   "cell_type": "code",
   "execution_count": null,
   "id": "0949d25f",
   "metadata": {},
   "outputs": [],
   "source": []
  },
  {
   "cell_type": "code",
   "execution_count": 45,
   "id": "d487032f",
   "metadata": {},
   "outputs": [],
   "source": [
    "from pyspark.ml.feature import Imputer\n",
    "\n",
    "imputer = Imputer(\n",
    "    inputCols=['Age', 'Experience', 'Salary'], \n",
    "    outputCols=[\"{}_imputed\".format(c) for c in ['age', 'Experience', 'Salary']]\n",
    "    ).setStrategy(\"mean\")"
   ]
  },
  {
   "cell_type": "code",
   "execution_count": 46,
   "id": "1d2ea9a8",
   "metadata": {},
   "outputs": [
    {
     "name": "stdout",
     "output_type": "stream",
     "text": [
      "+-------+----+----------+------+-----------+------------------+--------------+\n",
      "|   Name| Age|Experience|Salary|age_imputed|Experience_imputed|Salary_imputed|\n",
      "+-------+----+----------+------+-----------+------------------+--------------+\n",
      "| Sujeet|  22|        10| 35000|         22|                10|         35000|\n",
      "|  Ajeet|  18|         8| 26000|         18|                 8|         26000|\n",
      "|  Akash|  14|         4| 20000|         14|                 4|         20000|\n",
      "|  Manoj|  33|         3| 20000|         33|                 3|         20000|\n",
      "|Manisha|  37|         1| 15000|         37|                 1|         15000|\n",
      "|  Chunu|null|         2| 18000|         27|                 2|         18000|\n",
      "| Subham|null|      null| 20000|         27|                 5|         20000|\n",
      "|   null|  34|        10| 40000|         34|                10|         40000|\n",
      "|   null|  36|      null|  null|         36|                 5|         24250|\n",
      "+-------+----+----------+------+-----------+------------------+--------------+\n",
      "\n"
     ]
    }
   ],
   "source": [
    "# Add imputation cols to df\n",
    "imputer.fit(df_pyspark).transform(df_pyspark).show()"
   ]
  },
  {
   "cell_type": "code",
   "execution_count": null,
   "id": "a220b779",
   "metadata": {},
   "outputs": [],
   "source": []
  },
  {
   "cell_type": "code",
   "execution_count": null,
   "id": "1ede49b0",
   "metadata": {},
   "outputs": [],
   "source": []
  },
  {
   "cell_type": "code",
   "execution_count": 49,
   "id": "11ca5c49",
   "metadata": {},
   "outputs": [
    {
     "name": "stdout",
     "output_type": "stream",
     "text": [
      "+-------+----+----------+------+-----------+------------------+--------------+\n",
      "|   Name| Age|Experience|Salary|age_imputed|Experience_imputed|Salary_imputed|\n",
      "+-------+----+----------+------+-----------+------------------+--------------+\n",
      "| Sujeet|  22|        10| 35000|         22|                10|         35000|\n",
      "|  Ajeet|  18|         8| 26000|         18|                 8|         26000|\n",
      "|  Akash|  14|         4| 20000|         14|                 4|         20000|\n",
      "|  Manoj|  33|         3| 20000|         33|                 3|         20000|\n",
      "|Manisha|  37|         1| 15000|         37|                 1|         15000|\n",
      "|  Chunu|null|         2| 18000|         33|                 2|         18000|\n",
      "| Subham|null|      null| 20000|         33|                 4|         20000|\n",
      "|   null|  34|        10| 40000|         34|                10|         40000|\n",
      "|   null|  36|      null|  null|         36|                 4|         20000|\n",
      "+-------+----+----------+------+-----------+------------------+--------------+\n",
      "\n"
     ]
    }
   ],
   "source": [
    "from pyspark.ml.feature import Imputer\n",
    "\n",
    "imputer = Imputer(\n",
    "    inputCols=['Age', 'Experience', 'Salary'], \n",
    "    outputCols=[\"{}_imputed\".format(c) for c in ['age', 'Experience', 'Salary']]\n",
    "    ).setStrategy(\"median\")\n",
    "\n",
    "# Add imputation cols to df\n",
    "imputer.fit(df_pyspark).transform(df_pyspark).show()"
   ]
  },
  {
   "cell_type": "code",
   "execution_count": null,
   "id": "4d962cb6",
   "metadata": {},
   "outputs": [],
   "source": []
  }
 ],
 "metadata": {
  "kernelspec": {
   "display_name": "Python 3 (ipykernel)",
   "language": "python",
   "name": "python3"
  },
  "language_info": {
   "codemirror_mode": {
    "name": "ipython",
    "version": 3
   },
   "file_extension": ".py",
   "mimetype": "text/x-python",
   "name": "python",
   "nbconvert_exporter": "python",
   "pygments_lexer": "ipython3",
   "version": "3.9.16"
  }
 },
 "nbformat": 4,
 "nbformat_minor": 5
}
