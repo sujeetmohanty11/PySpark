{
 "cells": [
  {
   "cell_type": "code",
   "execution_count": 1,
   "id": "90b9c585",
   "metadata": {},
   "outputs": [
    {
     "name": "stdout",
     "output_type": "stream",
     "text": [
      "23/02/17 01:38:20 WARN Utils: Your hostname, Sujeets-MacBook-Air.local resolves to a loopback address: 127.0.0.1; using 192.168.29.122 instead (on interface en0)\n",
      "23/02/17 01:38:20 WARN Utils: Set SPARK_LOCAL_IP if you need to bind to another address\n"
     ]
    },
    {
     "name": "stderr",
     "output_type": "stream",
     "text": [
      "Setting default log level to \"WARN\".\n",
      "To adjust logging level use sc.setLogLevel(newLevel). For SparkR, use setLogLevel(newLevel).\n"
     ]
    },
    {
     "name": "stdout",
     "output_type": "stream",
     "text": [
      "23/02/17 01:38:21 WARN NativeCodeLoader: Unable to load native-hadoop library for your platform... using builtin-java classes where applicable\n",
      "23/02/17 01:38:23 WARN Utils: Service 'SparkUI' could not bind on port 4040. Attempting port 4041.\n",
      "23/02/17 01:38:23 WARN Utils: Service 'SparkUI' could not bind on port 4041. Attempting port 4042.\n",
      "23/02/17 01:38:23 WARN Utils: Service 'SparkUI' could not bind on port 4042. Attempting port 4043.\n",
      "23/02/17 01:38:23 WARN Utils: Service 'SparkUI' could not bind on port 4043. Attempting port 4044.\n"
     ]
    }
   ],
   "source": [
    "from pyspark.sql import SparkSession\n",
    "spark = SparkSession.builder.appName('practise18').getOrCreate()"
   ]
  },
  {
   "cell_type": "code",
   "execution_count": null,
   "id": "fced5e45",
   "metadata": {},
   "outputs": [],
   "source": []
  },
  {
   "cell_type": "code",
   "execution_count": null,
   "id": "adff7b0d",
   "metadata": {},
   "outputs": [],
   "source": []
  },
  {
   "cell_type": "code",
   "execution_count": 2,
   "id": "91dae858",
   "metadata": {},
   "outputs": [
    {
     "name": "stdout",
     "output_type": "stream",
     "text": [
      "<class 'pyspark.sql.column.Column'>\n"
     ]
    }
   ],
   "source": [
    "from pyspark.sql.functions import lit\n",
    "col1 = lit('abcd')\n",
    "print(type(col1))"
   ]
  },
  {
   "cell_type": "code",
   "execution_count": 5,
   "id": "5816654f",
   "metadata": {},
   "outputs": [
    {
     "name": "stdout",
     "output_type": "stream",
     "text": [
      "+------+------+------+\n",
      "|  name|gender|salary|\n",
      "+------+------+------+\n",
      "|sujeet|  male|  2000|\n",
      "| ajeet|  male|  2004|\n",
      "+------+------+------+\n",
      "\n"
     ]
    }
   ],
   "source": [
    "data = [('sujeet','male',2000),('ajeet','male',2004)]\n",
    "schema = ['name', 'gender', 'salary']\n",
    "\n",
    "df = spark.createDataFrame(data, schema)\n",
    "df.show()"
   ]
  },
  {
   "cell_type": "code",
   "execution_count": null,
   "id": "1dc7b619",
   "metadata": {},
   "outputs": [],
   "source": []
  },
  {
   "cell_type": "code",
   "execution_count": null,
   "id": "5859c560",
   "metadata": {},
   "outputs": [],
   "source": []
  },
  {
   "cell_type": "code",
   "execution_count": 6,
   "id": "538410b7",
   "metadata": {},
   "outputs": [
    {
     "name": "stdout",
     "output_type": "stream",
     "text": [
      "+------+------+------+--------------+\n",
      "|  name|gender|salary|       new_col|\n",
      "+------+------+------+--------------+\n",
      "|sujeet|  male|  2000|newColumnValue|\n",
      "| ajeet|  male|  2004|newColumnValue|\n",
      "+------+------+------+--------------+\n",
      "\n",
      "root\n",
      " |-- name: string (nullable = true)\n",
      " |-- gender: string (nullable = true)\n",
      " |-- salary: long (nullable = true)\n",
      " |-- new_col: string (nullable = false)\n",
      "\n"
     ]
    }
   ],
   "source": [
    "df1 = df.withColumn('new_col', lit('newColumnValue'))\n",
    "df1.show()\n",
    "df1.printSchema()"
   ]
  },
  {
   "cell_type": "code",
   "execution_count": null,
   "id": "70ffb8a3",
   "metadata": {},
   "outputs": [],
   "source": []
  },
  {
   "cell_type": "code",
   "execution_count": null,
   "id": "e50d4dd5",
   "metadata": {},
   "outputs": [],
   "source": []
  },
  {
   "cell_type": "code",
   "execution_count": 8,
   "id": "1a5be137",
   "metadata": {},
   "outputs": [
    {
     "name": "stdout",
     "output_type": "stream",
     "text": [
      "+------+\n",
      "|  name|\n",
      "+------+\n",
      "|sujeet|\n",
      "| ajeet|\n",
      "+------+\n",
      "\n"
     ]
    }
   ],
   "source": [
    "df1.select('name').show()"
   ]
  },
  {
   "cell_type": "code",
   "execution_count": 9,
   "id": "05b30800",
   "metadata": {},
   "outputs": [
    {
     "name": "stdout",
     "output_type": "stream",
     "text": [
      "+------+------+\n",
      "|  name|salary|\n",
      "+------+------+\n",
      "|sujeet|  2000|\n",
      "| ajeet|  2004|\n",
      "+------+------+\n",
      "\n"
     ]
    }
   ],
   "source": [
    "df1.select(['name','salary']).show()"
   ]
  },
  {
   "cell_type": "code",
   "execution_count": null,
   "id": "79defe2a",
   "metadata": {},
   "outputs": [],
   "source": []
  },
  {
   "cell_type": "code",
   "execution_count": null,
   "id": "d50d6803",
   "metadata": {},
   "outputs": [],
   "source": []
  },
  {
   "cell_type": "code",
   "execution_count": 10,
   "id": "78fee188",
   "metadata": {},
   "outputs": [
    {
     "name": "stdout",
     "output_type": "stream",
     "text": [
      "+------+\n",
      "|  name|\n",
      "+------+\n",
      "|sujeet|\n",
      "| ajeet|\n",
      "+------+\n",
      "\n"
     ]
    }
   ],
   "source": [
    "from pyspark.sql.functions import col\n",
    "\n",
    "df1.select(col('name')).show()"
   ]
  },
  {
   "cell_type": "code",
   "execution_count": null,
   "id": "78aaf79b",
   "metadata": {},
   "outputs": [],
   "source": []
  },
  {
   "cell_type": "code",
   "execution_count": null,
   "id": "f4c7091d",
   "metadata": {},
   "outputs": [],
   "source": []
  },
  {
   "cell_type": "code",
   "execution_count": 16,
   "id": "833501e7",
   "metadata": {},
   "outputs": [
    {
     "data": {
      "text/plain": [
       "[('sujeet', 'male', 2000, ('black', 'blue')),\n",
       " ('ajeet', 'male', 2004, ('blue', 'green'))]"
      ]
     },
     "execution_count": 16,
     "metadata": {},
     "output_type": "execute_result"
    }
   ],
   "source": [
    "data2 =  [('sujeet','male',2000,('black','blue')),('ajeet','male',2004, ('blue','green'))]\n",
    "data2"
   ]
  },
  {
   "cell_type": "code",
   "execution_count": 29,
   "id": "a4a7e2b8",
   "metadata": {},
   "outputs": [
    {
     "name": "stdout",
     "output_type": "stream",
     "text": [
      "+------+------+------+-------------+\n",
      "|  name|gender|salary|        props|\n",
      "+------+------+------+-------------+\n",
      "|sujeet|  male|  2000|{black, blue}|\n",
      "| ajeet|  male|  2004|{blue, green}|\n",
      "+------+------+------+-------------+\n",
      "\n",
      "root\n",
      " |-- name: string (nullable = true)\n",
      " |-- gender: string (nullable = true)\n",
      " |-- salary: integer (nullable = true)\n",
      " |-- props: struct (nullable = true)\n",
      " |    |-- hair: string (nullable = true)\n",
      " |    |-- eyes: string (nullable = true)\n",
      "\n"
     ]
    }
   ],
   "source": [
    "from pyspark.sql.types import StructField, StructType, StringType, IntegerType\n",
    "\n",
    "propType = StructType([\\\n",
    "                        StructField('hair', StringType()),\\\n",
    "                        StructField('eyes', StringType())\n",
    "                       ])\n",
    "\n",
    "schema = StructType([\\\n",
    "                     StructField('name',StringType()),\\\n",
    "                     StructField('gender', StringType()),\\\n",
    "                     StructField('salary', IntegerType()),\\\n",
    "                     StructField('props', propType)])\n",
    "\n",
    "data2 =  [('sujeet','male',2000,('black','blue')),('ajeet','male',2004, ('blue','green'))]\n",
    "\n",
    "df = spark.createDataFrame(data2, schema)\n",
    "df.show()\n",
    "df.printSchema()"
   ]
  },
  {
   "cell_type": "code",
   "execution_count": 32,
   "id": "774b92ff",
   "metadata": {},
   "outputs": [
    {
     "name": "stdout",
     "output_type": "stream",
     "text": [
      "+----------+\n",
      "|props.eyes|\n",
      "+----------+\n",
      "|      blue|\n",
      "|     green|\n",
      "+----------+\n",
      "\n"
     ]
    }
   ],
   "source": [
    "df.select(df.props.eyes).show()"
   ]
  },
  {
   "cell_type": "code",
   "execution_count": 33,
   "id": "83316124",
   "metadata": {},
   "outputs": [
    {
     "name": "stdout",
     "output_type": "stream",
     "text": [
      "+-----+\n",
      "| eyes|\n",
      "+-----+\n",
      "| blue|\n",
      "|green|\n",
      "+-----+\n",
      "\n"
     ]
    }
   ],
   "source": [
    "df.select(col('props.eyes')).show()"
   ]
  },
  {
   "cell_type": "code",
   "execution_count": null,
   "id": "e1421a13",
   "metadata": {},
   "outputs": [],
   "source": []
  }
 ],
 "metadata": {
  "kernelspec": {
   "display_name": "Python 3 (ipykernel)",
   "language": "python",
   "name": "python3"
  },
  "language_info": {
   "codemirror_mode": {
    "name": "ipython",
    "version": 3
   },
   "file_extension": ".py",
   "mimetype": "text/x-python",
   "name": "python",
   "nbconvert_exporter": "python",
   "pygments_lexer": "ipython3",
   "version": "3.9.16"
  }
 },
 "nbformat": 4,
 "nbformat_minor": 5
}
