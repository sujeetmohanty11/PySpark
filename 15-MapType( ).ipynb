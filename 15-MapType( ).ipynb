{
 "cells": [
  {
   "cell_type": "code",
   "execution_count": 2,
   "id": "1fd0c3ee",
   "metadata": {},
   "outputs": [
    {
     "name": "stdout",
     "output_type": "stream",
     "text": [
      "23/02/16 22:05:23 WARN Utils: Your hostname, Sujeets-MacBook-Air.local resolves to a loopback address: 127.0.0.1; using 192.168.29.122 instead (on interface en0)\n",
      "23/02/16 22:05:23 WARN Utils: Set SPARK_LOCAL_IP if you need to bind to another address\n"
     ]
    },
    {
     "name": "stderr",
     "output_type": "stream",
     "text": [
      "Setting default log level to \"WARN\".\n",
      "To adjust logging level use sc.setLogLevel(newLevel). For SparkR, use setLogLevel(newLevel).\n"
     ]
    },
    {
     "name": "stdout",
     "output_type": "stream",
     "text": [
      "23/02/16 22:05:23 WARN NativeCodeLoader: Unable to load native-hadoop library for your platform... using builtin-java classes where applicable\n",
      "23/02/16 22:05:25 WARN Utils: Service 'SparkUI' could not bind on port 4040. Attempting port 4041.\n"
     ]
    }
   ],
   "source": [
    "from pyspark.sql import SparkSession\n",
    "spark = SparkSession.builder.appName('practise15').getOrCreate()"
   ]
  },
  {
   "cell_type": "code",
   "execution_count": 11,
   "id": "eb692b0e",
   "metadata": {},
   "outputs": [
    {
     "name": "stdout",
     "output_type": "stream",
     "text": [
      "+------+------------------------------+\n",
      "|  name|                    properties|\n",
      "+------+------------------------------+\n",
      "|sujeet|{skin -> white, hair -> black}|\n",
      "| ajeet| {skin -> white, hair -> grey}|\n",
      "+------+------------------------------+\n",
      "\n",
      "root\n",
      " |-- name: string (nullable = true)\n",
      " |-- properties: map (nullable = true)\n",
      " |    |-- key: string\n",
      " |    |-- value: string (valueContainsNull = true)\n",
      "\n"
     ]
    }
   ],
   "source": [
    "data = [('sujeet', {'hair':'black', 'skin':'white'}),('ajeet', {'hair':'grey', 'skin':'white'})]\n",
    "schema =['name','properties']\n",
    "\n",
    "df = spark.createDataFrame(data, schema)\n",
    "df.show(truncate=50)\n",
    "df.printSchema()"
   ]
  },
  {
   "cell_type": "code",
   "execution_count": null,
   "id": "f7b7c60c",
   "metadata": {},
   "outputs": [],
   "source": []
  },
  {
   "cell_type": "code",
   "execution_count": null,
   "id": "34bc9e90",
   "metadata": {},
   "outputs": [],
   "source": []
  },
  {
   "cell_type": "code",
   "execution_count": 15,
   "id": "69b9491c",
   "metadata": {},
   "outputs": [
    {
     "name": "stdout",
     "output_type": "stream",
     "text": [
      "+------+------------------------------+\n",
      "|name  |properties                    |\n",
      "+------+------------------------------+\n",
      "|sujeet|{skin -> white, hair -> black}|\n",
      "|ajeet |{skin -> white, hair -> grey} |\n",
      "+------+------------------------------+\n",
      "\n",
      "root\n",
      " |-- name: string (nullable = true)\n",
      " |-- properties: map (nullable = true)\n",
      " |    |-- key: string\n",
      " |    |-- value: string (valueContainsNull = true)\n",
      "\n"
     ]
    }
   ],
   "source": [
    "from pyspark.sql.types import StructField, StructType, StringType, MapType\n",
    "\n",
    "data1 = [('sujeet', {'hair':'black', 'skin':'white'}),('ajeet', {'hair':'grey', 'skin':'white'})]\n",
    "schema1 = StructType([\\\n",
    "                     StructField('name',StringType()),\\\n",
    "                     StructField('properties', MapType(StringType(), StringType()))\n",
    "])\n",
    "\n",
    "df1= spark.createDataFrame(data1, schema1)\n",
    "df1.show(truncate=False)\n",
    "df1.printSchema()"
   ]
  },
  {
   "cell_type": "code",
   "execution_count": 25,
   "id": "e848143e",
   "metadata": {},
   "outputs": [
    {
     "name": "stdout",
     "output_type": "stream",
     "text": [
      "+------+------------------------------+-----+\n",
      "|name  |properties                    |hair |\n",
      "+------+------------------------------+-----+\n",
      "|sujeet|{skin -> white, hair -> black}|black|\n",
      "|ajeet |{skin -> white, hair -> grey} |grey |\n",
      "+------+------------------------------+-----+\n",
      "\n"
     ]
    }
   ],
   "source": [
    "df1.withColumn('hair ', df1.properties['hair']).show(truncate=False)"
   ]
  },
  {
   "cell_type": "code",
   "execution_count": 26,
   "id": "c171e4fa",
   "metadata": {},
   "outputs": [
    {
     "name": "stdout",
     "output_type": "stream",
     "text": [
      "+------+------------------------------+-----+\n",
      "|name  |properties                    |hair |\n",
      "+------+------------------------------+-----+\n",
      "|sujeet|{skin -> white, hair -> black}|black|\n",
      "|ajeet |{skin -> white, hair -> grey} |grey |\n",
      "+------+------------------------------+-----+\n",
      "\n"
     ]
    }
   ],
   "source": [
    "df1.withColumn('hair ', df1.properties.getItem('hair')).show(truncate=False)"
   ]
  },
  {
   "cell_type": "code",
   "execution_count": null,
   "id": "5f769a85",
   "metadata": {},
   "outputs": [],
   "source": []
  }
 ],
 "metadata": {
  "kernelspec": {
   "display_name": "Python 3 (ipykernel)",
   "language": "python",
   "name": "python3"
  },
  "language_info": {
   "codemirror_mode": {
    "name": "ipython",
    "version": 3
   },
   "file_extension": ".py",
   "mimetype": "text/x-python",
   "name": "python",
   "nbconvert_exporter": "python",
   "pygments_lexer": "ipython3",
   "version": "3.9.16"
  }
 },
 "nbformat": 4,
 "nbformat_minor": 5
}
