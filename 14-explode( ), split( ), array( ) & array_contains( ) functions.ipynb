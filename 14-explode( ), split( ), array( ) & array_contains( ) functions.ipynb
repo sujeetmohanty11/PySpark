{
 "cells": [
  {
   "cell_type": "code",
   "execution_count": 1,
   "id": "c53fb891",
   "metadata": {},
   "outputs": [],
   "source": [
    "import warnings\n",
    "warnings.filterwarnings('ignore')"
   ]
  },
  {
   "cell_type": "code",
   "execution_count": 3,
   "id": "f53f7ff8",
   "metadata": {},
   "outputs": [],
   "source": [
    "from pyspark.sql import SparkSession\n",
    "spark = SparkSession.builder.appName('practise14').getOrCreate()"
   ]
  },
  {
   "cell_type": "code",
   "execution_count": 23,
   "id": "19a1de51",
   "metadata": {},
   "outputs": [
    {
     "name": "stdout",
     "output_type": "stream",
     "text": [
      "+---+------+------------+\n",
      "| id|  name|      skills|\n",
      "+---+------+------------+\n",
      "|  1|sujeet|[python, ml]|\n",
      "|  2| ajeet| [java, sql]|\n",
      "+---+------+------------+\n",
      "\n",
      "root\n",
      " |-- id: long (nullable = true)\n",
      " |-- name: string (nullable = true)\n",
      " |-- skills: array (nullable = true)\n",
      " |    |-- element: string (containsNull = true)\n",
      "\n"
     ]
    }
   ],
   "source": [
    "data = [(1,'sujeet',['python','ml']),(2,'ajeet',['java','sql'])]\n",
    "schema = ['id', 'name', 'skills']\n",
    "\n",
    "df = spark.createDataFrame(data, schema)\n",
    "df.show()\n",
    "df.printSchema()"
   ]
  },
  {
   "cell_type": "code",
   "execution_count": null,
   "id": "4ad7e5de",
   "metadata": {},
   "outputs": [],
   "source": []
  },
  {
   "cell_type": "code",
   "execution_count": null,
   "id": "1a821b3e",
   "metadata": {},
   "outputs": [],
   "source": []
  },
  {
   "cell_type": "markdown",
   "id": "7fb7b6df",
   "metadata": {},
   "source": [
    "# explode ()"
   ]
  },
  {
   "cell_type": "code",
   "execution_count": 24,
   "id": "62b3c58b",
   "metadata": {},
   "outputs": [
    {
     "name": "stdout",
     "output_type": "stream",
     "text": [
      "+---+------+------------+------+\n",
      "| id|  name|      skills| skill|\n",
      "+---+------+------------+------+\n",
      "|  1|sujeet|[python, ml]|python|\n",
      "|  1|sujeet|[python, ml]|    ml|\n",
      "|  2| ajeet| [java, sql]|  java|\n",
      "|  2| ajeet| [java, sql]|   sql|\n",
      "+---+------+------------+------+\n",
      "\n"
     ]
    }
   ],
   "source": [
    "from pyspark.sql.functions import explode,col\n",
    "\n",
    "df.withColumn('skill', explode(col('skills'))).show()"
   ]
  },
  {
   "cell_type": "code",
   "execution_count": 25,
   "id": "219844cf",
   "metadata": {},
   "outputs": [
    {
     "name": "stdout",
     "output_type": "stream",
     "text": [
      "+---+------+------------+\n",
      "| id|  name|      skills|\n",
      "+---+------+------------+\n",
      "|  1|sujeet|[python, ml]|\n",
      "|  2| ajeet| [java, sql]|\n",
      "+---+------+------------+\n",
      "\n"
     ]
    }
   ],
   "source": [
    "df.show()"
   ]
  },
  {
   "cell_type": "code",
   "execution_count": null,
   "id": "e4bf8507",
   "metadata": {},
   "outputs": [],
   "source": []
  },
  {
   "cell_type": "code",
   "execution_count": null,
   "id": "1a97b144",
   "metadata": {},
   "outputs": [],
   "source": []
  },
  {
   "cell_type": "markdown",
   "id": "c9d74917",
   "metadata": {},
   "source": [
    "# split( )"
   ]
  },
  {
   "cell_type": "code",
   "execution_count": 38,
   "id": "1e22ddec",
   "metadata": {},
   "outputs": [
    {
     "name": "stdout",
     "output_type": "stream",
     "text": [
      "+---+------+---------+------------+\n",
      "| id|  name|   skills| skillsArray|\n",
      "+---+------+---------+------------+\n",
      "|  1|sujeet|python,ml|[python, ml]|\n",
      "|  2| ajeet| java,sql| [java, sql]|\n",
      "+---+------+---------+------------+\n",
      "\n"
     ]
    }
   ],
   "source": [
    "from pyspark.sql.functions import split\n",
    "\n",
    "data = [(1,'sujeet','python,ml'),(2,'ajeet','java,sql')]\n",
    "schema = ['id', 'name', 'skills']\n",
    "\n",
    "df = spark.createDataFrame(data, schema)\n",
    "df1 = df.withColumn('skillsArray', split(col('skills'),','))\n",
    "df1.show()"
   ]
  },
  {
   "cell_type": "code",
   "execution_count": null,
   "id": "cebbc10a",
   "metadata": {},
   "outputs": [],
   "source": []
  },
  {
   "cell_type": "code",
   "execution_count": null,
   "id": "7a945a41",
   "metadata": {},
   "outputs": [],
   "source": []
  },
  {
   "cell_type": "markdown",
   "id": "372411a6",
   "metadata": {},
   "source": [
    "# array()"
   ]
  },
  {
   "cell_type": "code",
   "execution_count": 42,
   "id": "df7079c2",
   "metadata": {},
   "outputs": [
    {
     "name": "stdout",
     "output_type": "stream",
     "text": [
      "+---+------+-------------+---------------+\n",
      "| id|  name|primaryskills|secondaryskills|\n",
      "+---+------+-------------+---------------+\n",
      "|  1|sujeet|       python|             ml|\n",
      "|  2| ajeet|         java|            sql|\n",
      "+---+------+-------------+---------------+\n",
      "\n"
     ]
    }
   ],
   "source": [
    "from pyspark.sql.functions import split\n",
    "\n",
    "data = [(1,'sujeet','python','ml'),(2,'ajeet','java','sql')]\n",
    "schema = ['id', 'name', 'primaryskills', 'secondaryskills']\n",
    "\n",
    "df4 = spark.createDataFrame(data, schema)\n",
    "df4.show()"
   ]
  },
  {
   "cell_type": "code",
   "execution_count": 44,
   "id": "5f67767a",
   "metadata": {},
   "outputs": [
    {
     "name": "stdout",
     "output_type": "stream",
     "text": [
      "+---+------+-------------+---------------+------------+\n",
      "| id|  name|primaryskills|secondaryskills|      skills|\n",
      "+---+------+-------------+---------------+------------+\n",
      "|  1|sujeet|       python|             ml|[python, ml]|\n",
      "|  2| ajeet|         java|            sql| [java, sql]|\n",
      "+---+------+-------------+---------------+------------+\n",
      "\n"
     ]
    }
   ],
   "source": [
    "df4.withColumn('skills', array(col('primaryskills'), col('secondaryskills'))).show()"
   ]
  },
  {
   "cell_type": "code",
   "execution_count": null,
   "id": "8dd8e17f",
   "metadata": {},
   "outputs": [],
   "source": []
  },
  {
   "cell_type": "code",
   "execution_count": null,
   "id": "c45e1a6e",
   "metadata": {},
   "outputs": [],
   "source": []
  },
  {
   "cell_type": "markdown",
   "id": "4a6741c8",
   "metadata": {},
   "source": [
    "# array_contains()"
   ]
  },
  {
   "cell_type": "code",
   "execution_count": 46,
   "id": "1ae04d4f",
   "metadata": {},
   "outputs": [],
   "source": [
    "from pyspark.sql.functions import array_contains"
   ]
  },
  {
   "cell_type": "code",
   "execution_count": 45,
   "id": "056c49b0",
   "metadata": {},
   "outputs": [
    {
     "name": "stdout",
     "output_type": "stream",
     "text": [
      "+---+------+------------+\n",
      "| id|  name|      skills|\n",
      "+---+------+------------+\n",
      "|  1|sujeet|[python, ml]|\n",
      "|  2| ajeet| [java, sql]|\n",
      "+---+------+------------+\n",
      "\n"
     ]
    }
   ],
   "source": [
    "data = [(1,'sujeet',['python','ml']),(2,'ajeet',['java','sql'])]\n",
    "schema = ['id', 'name', 'skills']\n",
    "\n",
    "df5 = spark.createDataFrame(data, schema)\n",
    "df5.show()"
   ]
  },
  {
   "cell_type": "code",
   "execution_count": 47,
   "id": "cee3dac9",
   "metadata": {},
   "outputs": [
    {
     "name": "stdout",
     "output_type": "stream",
     "text": [
      "+---+------+------------+-------------+\n",
      "| id|  name|      skills|skillspresent|\n",
      "+---+------+------------+-------------+\n",
      "|  1|sujeet|[python, ml]|         true|\n",
      "|  2| ajeet| [java, sql]|        false|\n",
      "+---+------+------------+-------------+\n",
      "\n"
     ]
    }
   ],
   "source": [
    "df5.withColumn('skillspresent', array_contains('skills','python')).show()"
   ]
  },
  {
   "cell_type": "code",
   "execution_count": null,
   "id": "3f50c55b",
   "metadata": {},
   "outputs": [],
   "source": []
  }
 ],
 "metadata": {
  "kernelspec": {
   "display_name": "Python 3 (ipykernel)",
   "language": "python",
   "name": "python3"
  },
  "language_info": {
   "codemirror_mode": {
    "name": "ipython",
    "version": 3
   },
   "file_extension": ".py",
   "mimetype": "text/x-python",
   "name": "python",
   "nbconvert_exporter": "python",
   "pygments_lexer": "ipython3",
   "version": "3.9.16"
  }
 },
 "nbformat": 4,
 "nbformat_minor": 5
}
