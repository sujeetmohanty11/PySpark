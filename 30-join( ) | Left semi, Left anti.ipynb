{
 "cells": [
  {
   "cell_type": "markdown",
   "id": "45d26ab7",
   "metadata": {},
   "source": [
    "* leftsemi join similar to inner join but get columns only from left dataframe for matching rows.\n",
    "* leftanti opposite to leftsemi, it gets not matching rows from left dataframe.\n",
    "* Self join, joins data with same dataframe"
   ]
  },
  {
   "cell_type": "code",
   "execution_count": 1,
   "id": "c816a794",
   "metadata": {},
   "outputs": [
    {
     "name": "stdout",
     "output_type": "stream",
     "text": [
      "23/02/17 21:24:54 WARN Utils: Your hostname, Sujeets-MacBook-Air.local resolves to a loopback address: 127.0.0.1; using 192.168.29.122 instead (on interface en0)\n",
      "23/02/17 21:24:54 WARN Utils: Set SPARK_LOCAL_IP if you need to bind to another address\n"
     ]
    },
    {
     "name": "stderr",
     "output_type": "stream",
     "text": [
      "Setting default log level to \"WARN\".\n",
      "To adjust logging level use sc.setLogLevel(newLevel). For SparkR, use setLogLevel(newLevel).\n"
     ]
    },
    {
     "name": "stdout",
     "output_type": "stream",
     "text": [
      "23/02/17 21:24:55 WARN NativeCodeLoader: Unable to load native-hadoop library for your platform... using builtin-java classes where applicable\n"
     ]
    }
   ],
   "source": [
    "from pyspark.sql import SparkSession\n",
    "spark = SparkSession.builder.appName('pracstise30').getOrCreate()"
   ]
  },
  {
   "cell_type": "code",
   "execution_count": 2,
   "id": "20feda07",
   "metadata": {},
   "outputs": [],
   "source": [
    "data1 = [ (1, 'maheer', 2000, 2) , (2, 'wafa', 3000, 1) , (3, 'abcd', 1000, 4)]\n",
    "schema1 = ['id', 'name', 'salary', 'dep']\n",
    "data2 = [(1, 'IT'), (2, 'HR'), (3, 'Payroll')]\n",
    "schema2 = ['id', 'name']"
   ]
  },
  {
   "cell_type": "code",
   "execution_count": 3,
   "id": "e4c7258e",
   "metadata": {},
   "outputs": [
    {
     "name": "stderr",
     "output_type": "stream",
     "text": [
      "                                                                                \r"
     ]
    },
    {
     "name": "stdout",
     "output_type": "stream",
     "text": [
      "+---+------+------+---+\n",
      "| id|  name|salary|dep|\n",
      "+---+------+------+---+\n",
      "|  1|maheer|  2000|  2|\n",
      "|  2|  wafa|  3000|  1|\n",
      "|  3|  abcd|  1000|  4|\n",
      "+---+------+------+---+\n",
      "\n",
      "+---+-------+\n",
      "| id|   name|\n",
      "+---+-------+\n",
      "|  1|     IT|\n",
      "|  2|     HR|\n",
      "|  3|Payroll|\n",
      "+---+-------+\n",
      "\n"
     ]
    }
   ],
   "source": [
    "empDf = spark.createDataFrame (data1, schema1)\n",
    "depDf = spark.createDataFrame (data2,schema2)\n",
    "empDf.show ()\n",
    "depDf.show ()"
   ]
  },
  {
   "cell_type": "code",
   "execution_count": 4,
   "id": "08bb91b9",
   "metadata": {},
   "outputs": [
    {
     "name": "stdout",
     "output_type": "stream",
     "text": [
      "+---+------+------+---+---+----+\n",
      "| id|  name|salary|dep| id|name|\n",
      "+---+------+------+---+---+----+\n",
      "|  2|  wafa|  3000|  1|  1|  IT|\n",
      "|  1|maheer|  2000|  2|  2|  HR|\n",
      "+---+------+------+---+---+----+\n",
      "\n"
     ]
    }
   ],
   "source": [
    "empDf.join(depDf, empDf.dep==depDf.id, 'inner').show()"
   ]
  },
  {
   "cell_type": "code",
   "execution_count": 5,
   "id": "3f8dab60",
   "metadata": {},
   "outputs": [
    {
     "name": "stdout",
     "output_type": "stream",
     "text": [
      "+---+------+------+---+\n",
      "| id|  name|salary|dep|\n",
      "+---+------+------+---+\n",
      "|  2|  wafa|  3000|  1|\n",
      "|  1|maheer|  2000|  2|\n",
      "+---+------+------+---+\n",
      "\n"
     ]
    }
   ],
   "source": [
    "empDf.join(depDf, empDf.dep==depDf.id, 'leftsemi').show()"
   ]
  },
  {
   "cell_type": "code",
   "execution_count": 6,
   "id": "98c10943",
   "metadata": {},
   "outputs": [
    {
     "name": "stdout",
     "output_type": "stream",
     "text": [
      "+---+----+------+---+\n",
      "| id|name|salary|dep|\n",
      "+---+----+------+---+\n",
      "|  3|abcd|  1000|  4|\n",
      "+---+----+------+---+\n",
      "\n"
     ]
    }
   ],
   "source": [
    "empDf.join(depDf, empDf.dep==depDf.id, 'leftanti').show()"
   ]
  },
  {
   "cell_type": "code",
   "execution_count": null,
   "id": "aac221f5",
   "metadata": {},
   "outputs": [],
   "source": []
  }
 ],
 "metadata": {
  "kernelspec": {
   "display_name": "Python 3 (ipykernel)",
   "language": "python",
   "name": "python3"
  },
  "language_info": {
   "codemirror_mode": {
    "name": "ipython",
    "version": 3
   },
   "file_extension": ".py",
   "mimetype": "text/x-python",
   "name": "python",
   "nbconvert_exporter": "python",
   "pygments_lexer": "ipython3",
   "version": "3.9.16"
  }
 },
 "nbformat": 4,
 "nbformat_minor": 5
}
