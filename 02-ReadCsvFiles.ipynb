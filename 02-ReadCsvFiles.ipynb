{
 "cells": [
  {
   "cell_type": "code",
   "execution_count": 8,
   "id": "588c453c",
   "metadata": {},
   "outputs": [],
   "source": [
    "import warnings\n",
    "warnings.filterwarnings('ignore')"
   ]
  },
  {
   "cell_type": "code",
   "execution_count": 9,
   "id": "495fd07c",
   "metadata": {},
   "outputs": [],
   "source": [
    "from pyspark.sql import SparkSession\n",
    "spark = SparkSession.builder.appName('practise2').getOrCreate()"
   ]
  },
  {
   "cell_type": "code",
   "execution_count": 18,
   "id": "9392369e",
   "metadata": {},
   "outputs": [],
   "source": [
    "df = spark.read.csv('test3.csv', header=True, inferSchema=True)"
   ]
  },
  {
   "cell_type": "code",
   "execution_count": 19,
   "id": "9dc32ead",
   "metadata": {},
   "outputs": [
    {
     "name": "stdout",
     "output_type": "stream",
     "text": [
      "+-------+---+----------+------+\n",
      "|   Name|Age|Experience|Salary|\n",
      "+-------+---+----------+------+\n",
      "| Sujeet| 22|         3| 35000|\n",
      "|  Ajeet| 18|         2| 26000|\n",
      "|  Akash| 14|         4| 20000|\n",
      "|  Manoj| 33|         1| 20000|\n",
      "|Manisha| 37|         8| 15000|\n",
      "|  Chunu|  5|         7| 18000|\n",
      "+-------+---+----------+------+\n",
      "\n"
     ]
    }
   ],
   "source": [
    "df.show()"
   ]
  },
  {
   "cell_type": "code",
   "execution_count": 20,
   "id": "041e5231",
   "metadata": {},
   "outputs": [
    {
     "name": "stdout",
     "output_type": "stream",
     "text": [
      "root\n",
      " |-- Name: string (nullable = true)\n",
      " |-- Age: integer (nullable = true)\n",
      " |-- Experience: integer (nullable = true)\n",
      " |-- Salary: integer (nullable = true)\n",
      "\n"
     ]
    }
   ],
   "source": [
    "df.printSchema()"
   ]
  },
  {
   "cell_type": "code",
   "execution_count": 24,
   "id": "e4e62011",
   "metadata": {},
   "outputs": [
    {
     "name": "stdout",
     "output_type": "stream",
     "text": [
      "+-------+---+----------+------+\n",
      "|   Name|Age|Experience|Salary|\n",
      "+-------+---+----------+------+\n",
      "| Sujeet| 22|         3| 35000|\n",
      "|  Ajeet| 18|         2| 26000|\n",
      "|  Akash| 14|         4| 20000|\n",
      "|  Manoj| 33|         1| 20000|\n",
      "|Manisha| 37|         8| 15000|\n",
      "|  Chunu|  5|         7| 18000|\n",
      "+-------+---+----------+------+\n",
      "\n"
     ]
    }
   ],
   "source": [
    "spark.read.format('csv').option(key='header',value=True).load(path=\"test4.csv\").show()"
   ]
  },
  {
   "cell_type": "markdown",
   "id": "bde7067e",
   "metadata": {},
   "source": [
    "## Reading Multiple csv files at single go"
   ]
  },
  {
   "cell_type": "code",
   "execution_count": 35,
   "id": "0e8de7a1",
   "metadata": {},
   "outputs": [],
   "source": [
    "df3 = spark.read.csv(path=['test1.csv','test2.csv'], header=True)"
   ]
  },
  {
   "cell_type": "code",
   "execution_count": 36,
   "id": "4bda7e0d",
   "metadata": {},
   "outputs": [
    {
     "name": "stdout",
     "output_type": "stream",
     "text": [
      "23/02/16 00:35:28 WARN CSVHeaderChecker: Number of column in CSV header is not equal to number of fields in the schema:\n",
      " Header length: 2, schema size: 3\n",
      "CSV file: file:///Users/sujeetmohanty/Documents/Jupyter%20Notebook/PySpark/test1.csv\n",
      "+------+---+----------+\n",
      "|  Name|Age|Experience|\n",
      "+------+---+----------+\n",
      "|Sujeet| 22|        10|\n",
      "| Ajeet| 18|         8|\n",
      "|   Cam| 14|         4|\n",
      "|Sujeet| 22|      null|\n",
      "| Ajeet| 18|      null|\n",
      "|   Cam| 14|      null|\n",
      "+------+---+----------+\n",
      "\n"
     ]
    }
   ],
   "source": [
    "df3.show()"
   ]
  },
  {
   "cell_type": "markdown",
   "id": "8b6e95ed",
   "metadata": {},
   "source": [
    "## type casting"
   ]
  },
  {
   "cell_type": "code",
   "execution_count": 55,
   "id": "83c9dd1f",
   "metadata": {},
   "outputs": [],
   "source": [
    "from pyspark.sql.types import *\n",
    "\n",
    "schema = StructType().add(field='Name', data_type = StringType())\\\n",
    "                        .add(field='Departments', data_type = StringType())\\\n",
    "                        .add(field='Salary', data_type = IntegerType())\\\n",
    "\n",
    "df4 = spark.read.csv('test5.csv',schema,header=True)"
   ]
  },
  {
   "cell_type": "code",
   "execution_count": 56,
   "id": "540cb388",
   "metadata": {},
   "outputs": [
    {
     "name": "stdout",
     "output_type": "stream",
     "text": [
      "root\n",
      " |-- Name: string (nullable = true)\n",
      " |-- Departments: string (nullable = true)\n",
      " |-- Salary: integer (nullable = true)\n",
      "\n"
     ]
    }
   ],
   "source": [
    "df4.printSchema()"
   ]
  },
  {
   "cell_type": "code",
   "execution_count": 57,
   "id": "bbc64138",
   "metadata": {},
   "outputs": [
    {
     "name": "stdout",
     "output_type": "stream",
     "text": [
      "+---------+------------+------+\n",
      "|     Name| Departments|Salary|\n",
      "+---------+------------+------+\n",
      "|    Krish|Data Science| 10000|\n",
      "|    Krish|         IoT|  5000|\n",
      "|   Mahesh|    Big Data|  4000|\n",
      "|    Krish|    Big Data|  4000|\n",
      "|   Mahesh|Data Science|  3000|\n",
      "|Sudhanshu|Data Science| 20000|\n",
      "|Sudhanshu|         IoT| 10000|\n",
      "|Sudhanshu|    Big Data|  5000|\n",
      "|    Sunny|Data Science| 10000|\n",
      "|    Sunny|    Big Data|  2000|\n",
      "+---------+------------+------+\n",
      "\n"
     ]
    }
   ],
   "source": [
    "df4.show()"
   ]
  },
  {
   "cell_type": "code",
   "execution_count": null,
   "id": "4635c3d6",
   "metadata": {},
   "outputs": [],
   "source": []
  }
 ],
 "metadata": {
  "kernelspec": {
   "display_name": "Python 3 (ipykernel)",
   "language": "python",
   "name": "python3"
  },
  "language_info": {
   "codemirror_mode": {
    "name": "ipython",
    "version": 3
   },
   "file_extension": ".py",
   "mimetype": "text/x-python",
   "name": "python",
   "nbconvert_exporter": "python",
   "pygments_lexer": "ipython3",
   "version": "3.9.16"
  }
 },
 "nbformat": 4,
 "nbformat_minor": 5
}
